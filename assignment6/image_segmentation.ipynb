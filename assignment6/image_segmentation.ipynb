{
 "cells": [
  {
   "cell_type": "markdown",
   "metadata": {},
   "source": [
    "# Deep Learning for Computer Vision\n",
    "\n",
    "---\n",
    "\n",
    "**Goethe University Frankfurt am Main**\n",
    "\n",
    "Winter Semester 2022/23\n",
    "\n",
    "<br>\n",
    "\n",
    "## *Assignment 6 (U-Net)*\n",
    "\n",
    "---\n",
    "\n",
    "**Points:** 110<br>\n",
    "**Due:** 14.12.2022, 10 am<br>\n",
    "**Contact:** Timothy Schaumlöffel (Discord)<br>\n",
    "\n",
    "---\n",
    "\n",
    "**Your Name:** Tilo-Lars Flasche\n",
    "\n",
    "<br>"
   ]
  },
  {
   "cell_type": "markdown",
   "metadata": {},
   "source": [
    "<br>\n",
    "\n",
    "## Table of Contents\n",
    "\n",
    "---\n",
    "\n",
    "- [1 Dataset](#1-Dataset)\n",
    "    - [1.1 Augmentations](#1.1-Augmentations-(15-Points))\n",
    "- [2 Model](#2-Model-(20-Points))\n",
    "- [3 Loss](#3-Loss-(20-Points))\n",
    "- [4 Metric](#4-Metric-(20-Points))\n",
    " - [4.1 Accuracy](#4.1-Accuracy-(5-Points))\n",
    "- [5 Training](#5-Training-(20-Points))\n",
    "- [6 Mask RCNN](#6-Mask-RCNN-(10-Points))"
   ]
  },
  {
   "cell_type": "markdown",
   "metadata": {},
   "source": [
    "# Getting Started\n",
    "## Setup Code\n",
    "Before getting started, we need to run some boilerplate code to set up our environment, same as previous assignments. You\"ll need to rerun this setup code each time you start the notebook.\n",
    "\n",
    "First, run this cell load the autoreload extension. This allows us to edit .py source files, and re-import them into the notebook for a seamless editing and debugging experience."
   ]
  },
  {
   "cell_type": "code",
   "execution_count": 2,
   "metadata": {
    "pycharm": {
     "is_executing": true
    }
   },
   "outputs": [],
   "source": [
    "%matplotlib inline\n",
    "%load_ext autoreload\n",
    "%autoreload 2"
   ]
  },
  {
   "cell_type": "code",
   "execution_count": 3,
   "metadata": {},
   "outputs": [
    {
     "name": "stdout",
     "output_type": "stream",
     "text": [
      "Requirement already satisfied: albumentations in c:\\users\\tilof\\appdata\\local\\programs\\python\\python310\\lib\\site-packages (1.3.0)\n",
      "Requirement already satisfied: scikit-image>=0.16.1 in c:\\users\\tilof\\appdata\\local\\programs\\python\\python310\\lib\\site-packages (from albumentations) (0.19.3)\n",
      "Requirement already satisfied: numpy>=1.11.1 in c:\\users\\tilof\\appdata\\local\\programs\\python\\python310\\lib\\site-packages (from albumentations) (1.23.1)\n",
      "Requirement already satisfied: PyYAML in c:\\users\\tilof\\appdata\\local\\programs\\python\\python310\\lib\\site-packages (from albumentations) (5.4.1)\n",
      "Requirement already satisfied: opencv-python-headless>=4.1.1 in c:\\users\\tilof\\appdata\\local\\programs\\python\\python310\\lib\\site-packages (from albumentations) (4.6.0.66)\n",
      "Requirement already satisfied: scipy in c:\\users\\tilof\\appdata\\local\\programs\\python\\python310\\lib\\site-packages (from albumentations) (1.9.0)\n",
      "Requirement already satisfied: qudida>=0.0.4 in c:\\users\\tilof\\appdata\\local\\programs\\python\\python310\\lib\\site-packages (from albumentations) (0.0.4)\n",
      "Requirement already satisfied: scikit-learn>=0.19.1 in c:\\users\\tilof\\appdata\\local\\programs\\python\\python310\\lib\\site-packages (from qudida>=0.0.4->albumentations) (1.1.2)\n",
      "Requirement already satisfied: typing-extensions in c:\\users\\tilof\\appdata\\local\\programs\\python\\python310\\lib\\site-packages (from qudida>=0.0.4->albumentations) (4.3.0)\n",
      "Requirement already satisfied: packaging>=20.0 in c:\\users\\tilof\\appdata\\local\\programs\\python\\python310\\lib\\site-packages (from scikit-image>=0.16.1->albumentations) (21.3)\n",
      "Requirement already satisfied: networkx>=2.2 in c:\\users\\tilof\\appdata\\local\\programs\\python\\python310\\lib\\site-packages (from scikit-image>=0.16.1->albumentations) (2.8.7)\n",
      "Requirement already satisfied: PyWavelets>=1.1.1 in c:\\users\\tilof\\appdata\\local\\programs\\python\\python310\\lib\\site-packages (from scikit-image>=0.16.1->albumentations) (1.4.1)\n",
      "Requirement already satisfied: pillow!=7.1.0,!=7.1.1,!=8.3.0,>=6.1.0 in c:\\users\\tilof\\appdata\\local\\programs\\python\\python310\\lib\\site-packages (from scikit-image>=0.16.1->albumentations) (9.2.0)\n",
      "Requirement already satisfied: tifffile>=2019.7.26 in c:\\users\\tilof\\appdata\\local\\programs\\python\\python310\\lib\\site-packages (from scikit-image>=0.16.1->albumentations) (2022.10.10)\n",
      "Requirement already satisfied: imageio>=2.4.1 in c:\\users\\tilof\\appdata\\local\\programs\\python\\python310\\lib\\site-packages (from scikit-image>=0.16.1->albumentations) (2.21.2)\n",
      "Requirement already satisfied: pyparsing!=3.0.5,>=2.0.2 in c:\\users\\tilof\\appdata\\local\\programs\\python\\python310\\lib\\site-packages (from packaging>=20.0->scikit-image>=0.16.1->albumentations) (3.0.9)\n",
      "Requirement already satisfied: threadpoolctl>=2.0.0 in c:\\users\\tilof\\appdata\\local\\programs\\python\\python310\\lib\\site-packages (from scikit-learn>=0.19.1->qudida>=0.0.4->albumentations) (3.1.0)\n",
      "Requirement already satisfied: joblib>=1.0.0 in c:\\users\\tilof\\appdata\\local\\programs\\python\\python310\\lib\\site-packages (from scikit-learn>=0.19.1->qudida>=0.0.4->albumentations) (1.2.0)\n"
     ]
    },
    {
     "name": "stderr",
     "output_type": "stream",
     "text": [
      "WARNING: Ignoring invalid distribution -rotobuf (c:\\users\\tilof\\appdata\\local\\programs\\python\\python310\\lib\\site-packages)\n",
      "WARNING: Ignoring invalid distribution -rotobuf (c:\\users\\tilof\\appdata\\local\\programs\\python\\python310\\lib\\site-packages)\n",
      "WARNING: Ignoring invalid distribution -rotobuf (c:\\users\\tilof\\appdata\\local\\programs\\python\\python310\\lib\\site-packages)\n",
      "WARNING: Ignoring invalid distribution -rotobuf (c:\\users\\tilof\\appdata\\local\\programs\\python\\python310\\lib\\site-packages)\n",
      "WARNING: Ignoring invalid distribution -rotobuf (c:\\users\\tilof\\appdata\\local\\programs\\python\\python310\\lib\\site-packages)\n",
      "WARNING: Ignoring invalid distribution -rotobuf (c:\\users\\tilof\\appdata\\local\\programs\\python\\python310\\lib\\site-packages)\n",
      "\n",
      "[notice] A new release of pip available: 22.2.1 -> 22.3.1\n",
      "[notice] To update, run: python.exe -m pip install --upgrade pip\n"
     ]
    }
   ],
   "source": [
    "# should be installed in Colab\n",
    "!pip install -U albumentations"
   ]
  },
  {
   "cell_type": "markdown",
   "metadata": {},
   "source": [
    "### Google Colab Setup\n",
    "Next we need to run a few commands to set up our environment on Google Colab. If you are running this notebook on a local machine you can skip this section.\n",
    "\n",
    "Run the following cell to mount your Google Drive. Follow the link, sign in to your Google account (the same account you used to store this notebook!) and copy the authorization code into the text box that appears below."
   ]
  },
  {
   "cell_type": "code",
   "execution_count": 3,
   "metadata": {},
   "outputs": [
    {
     "ename": "ModuleNotFoundError",
     "evalue": "No module named 'google.colab'",
     "output_type": "error",
     "traceback": [
      "\u001b[1;31m---------------------------------------------------------------------------\u001b[0m",
      "\u001b[1;31mModuleNotFoundError\u001b[0m                       Traceback (most recent call last)",
      "Input \u001b[1;32mIn [3]\u001b[0m, in \u001b[0;36m<cell line: 1>\u001b[1;34m()\u001b[0m\n\u001b[1;32m----> 1\u001b[0m \u001b[38;5;28;01mfrom\u001b[39;00m \u001b[38;5;21;01mgoogle\u001b[39;00m\u001b[38;5;21;01m.\u001b[39;00m\u001b[38;5;21;01mcolab\u001b[39;00m \u001b[38;5;28;01mimport\u001b[39;00m drive\n\u001b[0;32m      3\u001b[0m drive\u001b[38;5;241m.\u001b[39mmount(\u001b[38;5;124m\"\u001b[39m\u001b[38;5;124m/content/drive\u001b[39m\u001b[38;5;124m\"\u001b[39m)\n",
      "\u001b[1;31mModuleNotFoundError\u001b[0m: No module named 'google.colab'"
     ]
    }
   ],
   "source": [
    "from google.colab import drive\n",
    "\n",
    "drive.mount(\"/content/drive\")"
   ]
  },
  {
   "cell_type": "code",
   "execution_count": null,
   "metadata": {},
   "outputs": [],
   "source": [
    "from pathlib import Path\n",
    "import sys\n",
    "\n",
    "# TODO: Fill in the Google Drive path where you uploaded the assignment\n",
    "# Example: If you create a 2022WI folder and put all the files under A5 folder, then \"2022WI/A4\"\n",
    "GOOGLE_DRIVE_PATH_AFTER_MYDRIVE = ''\n",
    "ROOT_PATH = Path(\"drive\", \"My Drive\") / GOOGLE_DRIVE_PATH_AFTER_MYDRIVE\n",
    "print(list(ROOT_PATH.iterdir()))\n",
    "\n",
    "# Add to sys so we can import .py files.\n",
    "sys.path.append(str(ROOT_PATH))"
   ]
  },
  {
   "cell_type": "code",
   "execution_count": 4,
   "metadata": {},
   "outputs": [],
   "source": [
    "import torch\n",
    "from torchvision import datasets\n",
    "import numpy as np\n",
    "import multiprocessing\n",
    "from torch.utils.data import DataLoader\n",
    "import matplotlib.pyplot as plt\n",
    "from functools import partial\n",
    "from helper import plot_segmentation, plot_history"
   ]
  },
  {
   "cell_type": "code",
   "execution_count": null,
   "metadata": {},
   "outputs": [],
   "source": [
    "# Set a few constants related to data loading.\n",
    "NUM_CLASSES = 3\n",
    "BATCH_SIZE = 16\n",
    "IMAGE_SHAPE = (224, 224)\n",
    "MEAN = (0.485, 0.456, 0.406)\n",
    "STD = (0.229, 0.224, 0.225)\n",
    "NUM_WORKERS = multiprocessing.cpu_count()\n",
    "\n",
    "if torch.cuda.is_available():\n",
    "    print(\"Good to go!\")\n",
    "    DEVICE = torch.device(\"cuda\")\n",
    "else:\n",
    "    print(\"Please set GPU via Edit -> Notebook Settings.\")\n",
    "    DEVICE = torch.device(\"cpu\")"
   ]
  },
  {
   "cell_type": "markdown",
   "metadata": {},
   "source": [
    "<br>\n",
    "\n",
    "# 1 Dataset\n",
    "\n",
    "---\n",
    "\n",
    "## Oxford-IIIT Pet\n",
    "---\n",
    "In the last exercise we used bounding boxes to predict the location and class of objects in images. In this exercise\n",
    "we want to train a model on the task of semantic segmentation.\n",
    "\n",
    "In semantic segmentation we want to predict a mask for each image. Each pixel in the mask should be labeled with the\n",
    "class of the object it belongs to. Consequently the mask has the same size as the image and each pixel is labeled with\n",
    "an integer between 0 and the number of classes - 1.\n",
    "\n",
    "We will use [Oxford-IIIT Pet Dataset](https://www.robots.ox.ac.uk/~vgg/data/pets/), which contains images of cats and dogs.\n",
    "The dataset is available in torchvision and we can load it with torchvision.datasets.OxfordPets. The dataset contains\n",
    "annotations for classification and segmentation masks. We will use the segmentation masks for this exercise.\n",
    "\n",
    "Run the following cell to download the dataset automatically and show one example.\n"
   ]
  },
  {
   "cell_type": "code",
   "execution_count": null,
   "metadata": {},
   "outputs": [],
   "source": [
    "ROOT_PATH = '/media/ts/SSD_ubuntu/datasets/'\n",
    "dataset = datasets.OxfordIIITPet(root=ROOT_PATH, target_types='segmentation', download=True)\n",
    "print(dataset)\n",
    "\n",
    "image, mask = dataset[0]\n",
    "plot_segmentation(image, mask)"
   ]
  },
  {
   "cell_type": "markdown",
   "metadata": {},
   "source": [
    "The dataset contains three classes (we will scale the index to start at 0 in the dataloader for you):\n",
    "   * index 1 = foreground\n",
    "   * index 2 = background\n",
    "   * index 3 = border\n",
    "\n",
    "Usually we want to ignore the border class and only predict foreground and background. To make this task a bit more interesting\n",
    "we will also predict the border class. This means we will have **3 classes in total**."
   ]
  },
  {
   "cell_type": "markdown",
   "metadata": {},
   "source": [
    "## 1.1 Augmentations (15 Points)\n",
    "Since the dataset is very small we will add some data augmentation to the training set. For this we introduce the library\n",
    "**albumentations**, which contains a large collection of augmentation and is very popular in the computer vision community.\n",
    "One of the advantages of albumentations is that it applies the same augmentation to the image and the mask if necessary.\n",
    "\n",
    "**TODO**: Make yourself familiar with the [documentation](https://albumentations.ai/docs/) of albumentations ([List of Tranforms](https://albumentations.ai/docs/getting_started/transforms_and_targets/)). Implement\n",
    "the augmentation pipeline for training and validation. Use the following augmentation for the training set:\n",
    "   * Crop a random part of the image and resize it to `IMAGE_SHAPE`. Crop minimum 60% of the image and maximum 100%. Use aspect rations between 0.75 and 1.33.\n",
    "   * Horizontal flip with probability 0.5\n",
    "   * With probability 0.9 **either** CLAHE **or** random brightness & contrast\n",
    "   * With probability 0.9 **either** random gamma **or** random hue, saturation and value\n",
    "\n",
    "\n",
    "The validation set should only be resized to `IMAGE_SHAPE`.\n",
    "\n",
    "Of cause normalize the image using `MEAN` and `STD` and convert it to a Pytorch tensor with `ToTensorV2()` at the end.\n",
    "If not specified use default parameters for the augmentation.\n"
   ]
  },
  {
   "cell_type": "code",
   "execution_count": null,
   "metadata": {},
   "outputs": [],
   "source": [
    "import albumentations as A\n",
    "from albumentations.pytorch import ToTensorV2\n",
    "\n",
    "############################################################\n",
    "###                  START OF YOUR CODE                  ###\n",
    "############################################################\n",
    "train_transform = None\n",
    "test_transform = None\n",
    "############################################################\n",
    "###                   END OF YOUR CODE                   ###\n",
    "############################################################"
   ]
  },
  {
   "cell_type": "markdown",
   "metadata": {},
   "source": [
    "Now the augmentation pipeline is implemented we can start with the dataloader. To apply the albumantations pipeline to the\n",
    "torchvision dataset we need the helper `apply_transform`, that converts the PIL images to numpy arrays, applies the\n",
    "transformations and extracts the result. Have a look at the helper function and run the following cells to see some examples of your augmented images and masks."
   ]
  },
  {
   "cell_type": "code",
   "execution_count": null,
   "metadata": {},
   "outputs": [],
   "source": [
    "def apply_transform(image, mask, train=True):\n",
    "    # choose either train or test transform\n",
    "    func = train_transform if train else test_transform\n",
    "    # convert image and mask von PIL.Image to numpy.ndarray and apply albumentations style transform\n",
    "    res = func(image=np.array(image), mask=np.array(mask))\n",
    "    # extract image and mask from the result\n",
    "    # subtract 1 from mask to make it 0-based\n",
    "    return res['image'], res['mask'] - 1\n",
    "\n",
    "\n",
    "train_ds = datasets.OxfordIIITPet(root=ROOT_PATH,\n",
    "                                  target_types='segmentation',\n",
    "                                  transforms=partial(apply_transform, train=True),\n",
    "                                  split='trainval')\n",
    "\n",
    "val_ds = datasets.OxfordIIITPet(root=ROOT_PATH,\n",
    "                                target_types='segmentation',\n",
    "                                transforms=partial(apply_transform, train=False),\n",
    "                                split='test')\n",
    "\n",
    "# create dataloaders\n",
    "train_loader = DataLoader(train_ds, batch_size=BATCH_SIZE, shuffle=True, pin_memory=True, num_workers=NUM_WORKERS)\n",
    "val_loader = DataLoader(val_ds, batch_size=BATCH_SIZE, shuffle=False, pin_memory=True, num_workers=NUM_WORKERS)"
   ]
  },
  {
   "cell_type": "code",
   "execution_count": 4,
   "metadata": {
    "scrolled": true
   },
   "outputs": [
    {
     "ename": "NameError",
     "evalue": "name 'train_loader' is not defined",
     "output_type": "error",
     "traceback": [
      "\u001b[1;31m---------------------------------------------------------------------------\u001b[0m",
      "\u001b[1;31mNameError\u001b[0m                                 Traceback (most recent call last)",
      "Input \u001b[1;32mIn [4]\u001b[0m, in \u001b[0;36m<cell line: 1>\u001b[1;34m()\u001b[0m\n\u001b[1;32m----> 1\u001b[0m train_loader_iter \u001b[38;5;241m=\u001b[39m \u001b[38;5;28miter\u001b[39m(\u001b[43mtrain_loader\u001b[49m)\n\u001b[0;32m      2\u001b[0m images, masks \u001b[38;5;241m=\u001b[39m \u001b[38;5;28mnext\u001b[39m(train_loader_iter)\n\u001b[0;32m      4\u001b[0m \u001b[38;5;28mprint\u001b[39m(\u001b[38;5;124mf\u001b[39m\u001b[38;5;124m\"\u001b[39m\u001b[38;5;124mImages have shape   : \u001b[39m\u001b[38;5;132;01m{\u001b[39;00mimages\u001b[38;5;241m.\u001b[39mshape\u001b[38;5;132;01m}\u001b[39;00m\u001b[38;5;124m\"\u001b[39m)\n",
      "\u001b[1;31mNameError\u001b[0m: name 'train_loader' is not defined"
     ]
    }
   ],
   "source": [
    "train_loader_iter = iter(train_loader)\n",
    "images, masks = next(train_loader_iter)\n",
    "\n",
    "print(f\"Images have shape   : {images.shape}\")\n",
    "print(f\"Masks have shape    : {masks.shape}\")\n",
    "\n",
    "# create inverse transform to visualize images\n",
    "inverse = A.Compose([\n",
    "    A.Normalize(mean=[-m / s for m, s in zip(MEAN, STD)], std=[1 / s for s in STD], max_pixel_value=1.0)\n",
    "])\n",
    "\n",
    "for i in range(3):\n",
    "    img = images[i].permute(1, 2, 0)  # swap channels\n",
    "    img = inverse(image=img.numpy())['image']\n",
    "    plot_segmentation(img, masks[i])"
   ]
  },
  {
   "cell_type": "markdown",
   "metadata": {},
   "source": [
    "<br>\n",
    "\n",
    "# 2 Model (20 Points)\n",
    "\n",
    "---\n",
    "\n",
    "## U-NET\n",
    "---\n",
    "[U-Net](https://arxiv.org/pdf/1505.04597.pdf) is a deep learning architecture that is commonly used for image segmentation tasks. It was first proposed in 2015 by researchers at the University of Freiburg in Germany, and it has since been widely used in various applications, such as medical imaging and satellite image analysis.\n",
    "\n",
    "U-Net is a fully convolutional network, which means that it is composed entirely of convolutional layers, with no fully-connected layers. This allows it to take in inputs of arbitrary size and produce output segmentation masks of the same size. The architecture of U-Net is designed to be highly symmetrical, with a \"down-sampling\" path that encodes the input image into a compact representation, and a \"up-sampling\" path that decodes the compact representation back into a full-sized output mask.\n",
    "\n",
    "One of the key features of U-Net is its use of skip connections, which allows it to combine low-level details from the down-sampling path with high-level context from the up-sampling path. This helps the network to make more accurate segmentation predictions by leveraging both local and global information about the input image.\n",
    "\n",
    "\n",
    "<img src=\"https://lmb.informatik.uni-freiburg.de/people/ronneber/u-net/u-net-architecture.png\" alt=\"U-Net architecture figure\" width=\"70%\">\n",
    "\n",
    "We will follow the idea of U-Net, but we will not implement exactly the same architecture as in the figure. Instead, we will use a pre-trained encoder and extend it with our own decoder. This will speed up the convergence of the network and reduce the amount of computational resources. We use the same `regnet_x_400mf` pretrained on ImageNet as in the previous task, but this time we take features from five positions. Execute the following cell to print the output shapes of the encoder."
   ]
  },
  {
   "cell_type": "code",
   "execution_count": null,
   "metadata": {},
   "outputs": [],
   "source": [
    "from unet import Encoder\n",
    "\n",
    "encoder = Encoder()"
   ]
  },
  {
   "cell_type": "markdown",
   "metadata": {},
   "source": [
    "Now you can implement the decoder. For this purpose, a DecoderBlock is defined that receives both the skip connection from the encoder and the bottom-up stream and merges them accordingly by upsampling.\n",
    "**TODO**: Follow the instructions in `unet.py` and implement all methods in `DecoderBlock()` and `Decoder()`."
   ]
  },
  {
   "cell_type": "code",
   "execution_count": null,
   "metadata": {},
   "outputs": [],
   "source": [
    "from unet import UNet\n",
    "\n",
    "model = UNet(num_classes=10)\n",
    "x = torch.rand(2, 3, 224, 224)\n",
    "y = model(x)\n",
    "\n",
    "print(f\"[Test Model]: {tuple(y.shape) == (2, 10, 224, 224)}\")"
   ]
  },
  {
   "cell_type": "markdown",
   "metadata": {},
   "source": [
    "<br>\n",
    "\n",
    "# 3 Loss (20 Points)\n",
    "\n",
    "---\n",
    "\n",
    "## Dice Loss\n",
    "---\n",
    "We want to implement the multi-class **Dice Loss**, a popular loss function from the field of medical image segmentation. It measures the overlap between the predicted and the ground truth sample.\n",
    "\n",
    "For classes $c \\in C$ and samples $i \\in I$: $y_i^{(c)}$ is the one-hot encoding (0 or 1) of class $c$ and $\\hat{y}_i^{(c)}$ is the probability for the example and class. The Dice Loss defined as:\n",
    "\n",
    "$$\n",
    "    L(y, \\hat{y}) = 1 - \\frac{2}{|C|} \\cdot \\sum_{c \\in C} \\frac{\\sum_{i} y_i^{(c)} \\hat{y}_i^{(c)} + \\epsilon}{\\sum_{i} \\left(y_i^{(c)} + \\hat{y}_i^{(c)} \\right) + \\epsilon}\n",
    "$$\n",
    "where $\\epsilon$ is a constant to avoid dividing by zero.\n",
    "\n",
    "---\n",
    "\n",
    "**TODO**: Implement the forward pass of the class `DiceLoss` in `loss.py` and test your implementation in the cell below. It expects the logits of the model, so you must apply softmax to get probabilities. For numerical stability, use log_softmax and then exponentiate. The target is expected to be in one-hot format."
   ]
  },
  {
   "cell_type": "code",
   "execution_count": null,
   "metadata": {},
   "outputs": [],
   "source": [
    "from loss import DiceLoss\n",
    "\n",
    "# model output of shape (N, C, H, W)\n",
    "logits = torch.tensor([[[[0.1261, 0.4626, 1.5762],\n",
    "                         [1.5561, -0.0415, -0.0891],\n",
    "                         [0.7072, 0.1905, -0.8896]],\n",
    "\n",
    "                        [[-1.4516, -0.6939, -0.2739],\n",
    "                         [1.5394, 1.1466, 0.7905],\n",
    "                         [-3.0648, -1.0307, 0.7960]]]])\n",
    "# one-hot ground truth of shape (N, C, H, W)\n",
    "target = torch.tensor([[[[1, 1, 0],\n",
    "                         [1, 0, 1],\n",
    "                         [1, 1, 0]],\n",
    "\n",
    "                        [[0, 0, 1],\n",
    "                         [0, 1, 0],\n",
    "                         [0, 0, 1]]]])\n",
    "\n",
    "expected_loss = torch.tensor(0.37266626954078674)\n",
    "\n",
    "dice = DiceLoss(reduce='mean')\n",
    "loss = dice(logits, target)\n",
    "passed = abs(loss - expected_loss) < 1e-5\n",
    "\n",
    "print(f\"[Test Loss]: {passed}\")"
   ]
  },
  {
   "cell_type": "markdown",
   "metadata": {},
   "source": [
    "<br>\n",
    "\n",
    "# 4 Metric (20 Points)\n",
    "\n",
    "---\n",
    "The performance of the segmentation will be evaluated with the **Intersection over Union** (Jaccard Index) and **Accuracy**. These metrics can be formulated with the results of a confusion matrix:\n",
    "$$\n",
    "    \\text{IoU} = \\frac{\\text{TP}}{\\text{TP} + \\text{FN} + \\text{FP}}\n",
    "$$\n",
    "$$\n",
    "    \\text{Accuracy} = \\frac{\\text{TP} + \\text{TN}}{\\text{TP} + \\text{TN}+ \\text{FN} + \\text{FP}}\n",
    "$$\n",
    "with TP=True positives, TN=True negatives, FP=False positives and FN=False negatives.\n",
    "\n",
    "These values should be calculated pixel-wise for every class, to get the overall scores for the image.\n",
    "\n",
    "---\n",
    "\n",
    "**TODO**: Implement the functions `stat_scores()` to calculate the values of the confusion matrix as well as `accuracy_score()` and `iou_score()` in `metric.py` and test your implementation below."
   ]
  },
  {
   "cell_type": "code",
   "execution_count": 9,
   "metadata": {},
   "outputs": [
    {
     "data": {
      "image/png": "[encoded data removed]",
      "text/plain": [
       "<Figure size 640x480 with 2 Axes>"
      ]
     },
     "metadata": {},
     "output_type": "display_data"
    },
    {
     "name": "stdout",
     "output_type": "stream",
     "text": [
      "tensor(730) tensor(1690) tensor(555) tensor(13409)\n",
      "[Test Stats]: False\n",
      "[Test IoU]: False\n",
      "[Test Accuracy]: False\n"
     ]
    }
   ],
   "source": [
    "from metrics import stat_scores, iou_score, accuracy_score\n",
    "\n",
    "# create some dummy input with three classes\n",
    "test_img1 = torch.zeros(128, 128)\n",
    "test_img1[25:50, 25:50] = 1\n",
    "test_img1[100:120, 40:73] = 2\n",
    "\n",
    "test_img2 = torch.zeros(128, 128)\n",
    "test_img2[25:50, 25:45] = 1\n",
    "test_img2[80:110, 50:114] = 2\n",
    "\n",
    "fig, ax = plt.subplots(1, 2)\n",
    "ax[0].imshow(test_img1)\n",
    "ax[1].imshow(test_img2)\n",
    "plt.show()\n",
    "\n",
    "expected_iou, expected_acc = 0.7589779496192932, 0.9086506962776184\n",
    "expected_stats = torch.tensor([14139, 2245, 2245, 30523])\n",
    "\n",
    "tp, fp, fn, tn = stat_scores(test_img1, test_img2, num_classes=3)\n",
    "print(tp, fp, fn, tn)\n",
    "print(f\"[Test Stats]: {torch.allclose(torch.stack([tp, fp, fn, tn]), expected_stats)}\")\n",
    "\n",
    "iou = iou_score(tp, fp, fn, tn)\n",
    "print(f\"[Test IoU]: {abs(iou - expected_iou) < 1e-5}\")\n",
    "\n",
    "acc = accuracy_score(tp, fp, fn, tn)\n",
    "print(f\"[Test Accuracy]: {abs(acc - expected_acc) < 1e-5}\")"
   ]
  },
  {
   "cell_type": "markdown",
   "metadata": {},
   "source": [
    "## 4.1 Accuracy (5 Points)\n",
    "**TODO**: The accuracy score is rarely used in semantic segmentation because it can lead to misleading results. Briefly explain in your own words what the problem with accuracy is."
   ]
  },
  {
   "cell_type": "markdown",
   "metadata": {},
   "source": [
    "##### Answer\n",
    "\n",
    "*Write your answer here.*"
   ]
  },
  {
   "cell_type": "markdown",
   "metadata": {},
   "source": [
    "<br>\n",
    "\n",
    "# 5 Training (20 Points)\n",
    "\n",
    "At this point, only three small things are missing to train the model. 1. The ground truth masks from the data loader have the shape `(N, H, W)`, so an integer represents the class label. But our loss function expects one-hot encoded targets. 2. For the evaluation with our created metrics we have to convert the output of the network into probabilities. 3. We need to calculate our metrics during training.\n",
    "\n",
    "---\n",
    "\n",
    "**TODO**: Implement two missing parts in `Solver.test()`, `Solver.infer()` and `Solver.train()` in `solver.py` and train the network for 10 epochs."
   ]
  },
  {
   "cell_type": "code",
   "execution_count": null,
   "metadata": {},
   "outputs": [],
   "source": [
    "from solver import Solver\n",
    "from loss import DiceLoss\n",
    "from unet import UNet\n",
    "\n",
    "loss = DiceLoss(reduce='mean')\n",
    "model = UNet(num_classes=NUM_CLASSES)\n",
    "\n",
    "solver = Solver(train_loader, val_loader, model, loss, DEVICE)\n",
    "hist = solver.train(num_epochs=10)\n",
    "\n",
    "plot_history(hist, save=None)"
   ]
  },
  {
   "cell_type": "markdown",
   "metadata": {},
   "source": [
    "The expected IoU-Score should be between 80-90%. Let's look at some predictions:"
   ]
  },
  {
   "cell_type": "code",
   "execution_count": null,
   "metadata": {},
   "outputs": [],
   "source": [
    "images, masks = next(iter(val_loader))\n",
    "pred_masks = solver.infer(images)\n",
    "\n",
    "for image, mask, pred_mask in zip(images, masks, pred_masks):\n",
    "    image = image.permute(1, 2, 0)\n",
    "    image = inverse(image=image.numpy())['image']\n",
    "    plot_segmentation(image, mask, pred_mask)"
   ]
  },
  {
   "cell_type": "markdown",
   "metadata": {},
   "source": []
  },
  {
   "cell_type": "markdown",
   "metadata": {},
   "source": [
    "<br>\n",
    "\n",
    "# 6 Mask RCNN (10 Points)\n",
    "\n",
    "---\n",
    "\n",
    "In the last exercise we implemented the two-stage object detector Faster R-CNN. In the lecture, [Mask R-CNN](https://arxiv.org/pdf/1703.06870.pdf) was presented, that extends this approach to accomplish the segmentation task.\n",
    " **TODO:** Briefly describe the stages of Mask R-CNN (RPN -> Fast R-CNN) and explain how the segmentation is performed. Also describe why *RoIAlign* is used in this context and what problem it solves compared to *RoiPool*.\n"
   ]
  },
  {
   "cell_type": "markdown",
   "metadata": {},
   "source": [
    "##### Answer\n",
    "\n",
    "*Write your answer here.*\n"
   ]
  }
 ],
 "metadata": {
  "kernelspec": {
   "display_name": "Python 3 (ipykernel)",
   "language": "python",
   "name": "python3"
  },
  "language_info": {
   "codemirror_mode": {
    "name": "ipython",
    "version": 3
   },
   "file_extension": ".py",
   "mimetype": "text/x-python",
   "name": "python",
   "nbconvert_exporter": "python",
   "pygments_lexer": "ipython3",
   "version": "3.10.6"
  }
 },
 "nbformat": 4,
 "nbformat_minor": 4
}
