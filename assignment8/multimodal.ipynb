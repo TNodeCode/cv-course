{
 "cells": [
  {
   "cell_type": "markdown",
   "metadata": {},
   "source": [
    "# Deep Learning for Computer Vision\n",
    "\n",
    "---\n",
    "\n",
    "**Goethe University Frankfurt am Main**\n",
    "\n",
    "Winter Semester 2022/23\n",
    "\n",
    "<br>\n",
    "\n",
    "## *Assignment 8 (Multimodal Learning)*\n",
    "\n",
    "---\n",
    "\n",
    "**Points:** 40<br>\n",
    "**Due:** 9.2.2022, 10 am<br>\n",
    "**Contact:** Timothy Schaumlöffel (Discord)<br>\n",
    "\n",
    "---\n",
    "\n",
    "**Your Name:** Tilo-Lars Flasche\n",
    "\n",
    "<br>"
   ]
  },
  {
   "cell_type": "markdown",
   "metadata": {},
   "source": [
    "# 1. Multimodal Fusion\n",
    "\n",
    "---\n",
    "In this task we want to investigate to what extent different modalities can help in solving a problem. For this we will use the [MuMu](https://arxiv.org/pdf/1707.04916.pdf) dataset, which specifies the **genre of music albums**. We focus on the two modalities audio and vision. To reduce complexity, these are provided as vectors already embedded by a unimodal encoder.\n",
    "\n",
    "For the audio data, a CNN was trained on the spectrograms of the individual tracks and the average was taken for the whole album. The visual part of an album corresponds to the cover image. It was embedded using a ResNet101.\n",
    "\n",
    "A single album can have multiple genres, so this becomes a multi-label classification problem. Moreover, these genres are very unbalanced, as you can see in the figure below. The number of classes has been reduced to 20 for this assignment.\n",
    "\n",
    "<br>\n",
    "\n",
    "<center><img src=\"assets/top20_genre.png\" width=1024 height=400/></center>\n",
    "\n",
    "<br>\n",
    "\n",
    "We trained a simple classification head on top of the uni-modal features. Since it's a multi-label problem we used binary cross entropy loss and evaluate with mean average precision. The results are as follows:\n",
    "\n",
    "$$\n",
    "    \\text{mAP}_{audio} = 0.560 \\\\\n",
    "    \\text{mAP}_{vision} = 0.292\n",
    "$$\n",
    "\n",
    "During the exercise we will try to improve these results by combining modalities."
   ]
  },
  {
   "cell_type": "code",
   "execution_count": 1,
   "metadata": {},
   "outputs": [
    {
     "name": "stdout",
     "output_type": "stream",
     "text": [
      "Requirement already satisfied: torchmetrics in c:\\users\\tilof\\appdata\\local\\programs\\python\\python310\\lib\\site-packages (0.11.1)\n",
      "Requirement already satisfied: torch>=1.8.1 in c:\\users\\tilof\\appdata\\local\\programs\\python\\python310\\lib\\site-packages (from torchmetrics) (1.13.1+cu117)\n",
      "Requirement already satisfied: packaging in c:\\users\\tilof\\appdata\\local\\programs\\python\\python310\\lib\\site-packages (from torchmetrics) (21.3)\n",
      "Requirement already satisfied: numpy>=1.17.2 in c:\\users\\tilof\\appdata\\local\\programs\\python\\python310\\lib\\site-packages (from torchmetrics) (1.23.1)\n",
      "Requirement already satisfied: typing-extensions in c:\\users\\tilof\\appdata\\local\\programs\\python\\python310\\lib\\site-packages (from torch>=1.8.1->torchmetrics) (4.3.0)\n",
      "Requirement already satisfied: pyparsing!=3.0.5,>=2.0.2 in c:\\users\\tilof\\appdata\\local\\programs\\python\\python310\\lib\\site-packages (from packaging->torchmetrics) (3.0.9)\n"
     ]
    },
    {
     "name": "stderr",
     "output_type": "stream",
     "text": [
      "WARNING: Ignoring invalid distribution -rotobuf (c:\\users\\tilof\\appdata\\local\\programs\\python\\python310\\lib\\site-packages)\n",
      "WARNING: Ignoring invalid distribution -rotobuf (c:\\users\\tilof\\appdata\\local\\programs\\python\\python310\\lib\\site-packages)\n",
      "WARNING: Ignoring invalid distribution -rotobuf (c:\\users\\tilof\\appdata\\local\\programs\\python\\python310\\lib\\site-packages)\n",
      "WARNING: Ignoring invalid distribution -rotobuf (c:\\users\\tilof\\appdata\\local\\programs\\python\\python310\\lib\\site-packages)\n",
      "WARNING: Ignoring invalid distribution -rotobuf (c:\\users\\tilof\\appdata\\local\\programs\\python\\python310\\lib\\site-packages)\n",
      "WARNING: Ignoring invalid distribution -rotobuf (c:\\users\\tilof\\appdata\\local\\programs\\python\\python310\\lib\\site-packages)\n"
     ]
    }
   ],
   "source": [
    "!pip install torchmetrics"
   ]
  },
  {
   "cell_type": "code",
   "execution_count": 2,
   "metadata": {},
   "outputs": [],
   "source": [
    "import torch\n",
    "import torch.nn as nn\n",
    "import torch.nn.functional as F\n",
    "\n",
    "from multimodal.solver import Solver, show_training\n",
    "from multimodal.dataset import AlbumGenreDataset"
   ]
  },
  {
   "cell_type": "markdown",
   "metadata": {},
   "source": [
    "Download the prepared dataset from [here](https://www.dropbox.com/s/iz54mea432vg8o1/album_genre_dataset.zip?dl=0) and decompress to the project directory (or to any location but change the `root` value in the follownig cell).\n",
    "\n",
    "The dataset is loaded by the `AlbumGenreDataset` class. It returns a tuple `(audio_features, visual_features)` of normalized features and the one-hot encoded ground-truth genres. If you run the following cell you can the output format."
   ]
  },
  {
   "cell_type": "code",
   "execution_count": 3,
   "metadata": {},
   "outputs": [
    {
     "name": "stdout",
     "output_type": "stream",
     "text": [
      "Audio features shape : (4096,)\n",
      "Visual features shape: (2048,)\n",
      "Target shape         : (20,)\n",
      "Target: [1. 0. 0. 1. 0. 0. 0. 0. 0. 0. 0. 0. 0. 0. 0. 0. 0. 0. 0. 0.]\n"
     ]
    }
   ],
   "source": [
    "root = 'album_genre_dataset'\n",
    "num_classes = 20\n",
    "num_epochs = 10\n",
    "\n",
    "train_ds = AlbumGenreDataset(root, 'train')\n",
    "val_ds = AlbumGenreDataset(root, 'val')\n",
    "\n",
    "x, y = train_ds[0]\n",
    "print(f\"Audio features shape : {x[0].shape}\")\n",
    "print(f\"Visual features shape: {x[1].shape}\")\n",
    "print(f\"Target shape         : {y.shape}\")\n",
    "print(f\"Target: {y}\")"
   ]
  },
  {
   "cell_type": "markdown",
   "metadata": {},
   "source": [
    "## Task 1.1: Fusion (8 Points)\n",
    "\n",
    "Create a simple model that expects visual and auditory embeddings, concatenates them and forwards them through a MLP for the final prediction. Use the provided `Solver` to train the model. The training loop is already implemented and configured for you. The loss function is `BCEWithLogitsLoss`, so you don't have to apply any activation one the prediction. For evaluation, we use the `torchmetrics` module."
   ]
  },
  {
   "cell_type": "code",
   "execution_count": 4,
   "metadata": {},
   "outputs": [],
   "source": [
    "############################################################\n",
    "##                   START OF YOUR CODE                   ##\n",
    "############################################################\n",
    "\n",
    "class MultiModalClassifier(nn.Module):\n",
    "    def __init__(self, visual_embedding_size, auditory_embedding_size, num_classes):\n",
    "        super().__init__()\n",
    "        # Hyperparameters\n",
    "        self.visual_embedding_size = visual_embedding_size\n",
    "        self.auditory_embedding_size = auditory_embedding_size\n",
    "        self.num_classes = num_classes\n",
    "        \n",
    "        # Layers\n",
    "        self.fc = nn.Linear(visual_embedding_size + auditory_embedding_size, num_classes)\n",
    "\n",
    "    def forward(self, input):\n",
    "        # Concatenate visual and auditory features\n",
    "        embeddings = torch.cat(input, dim=1)\n",
    "        # Classify the embedded vector\n",
    "        out = self.fc(embeddings)\n",
    "        \n",
    "        return out\n",
    "\n",
    "############################################################\n",
    "##                   END OF YOUR CODE                     ##\n",
    "############################################################"
   ]
  },
  {
   "cell_type": "code",
   "execution_count": 5,
   "metadata": {},
   "outputs": [
    {
     "data": {
      "application/vnd.jupyter.widget-view+json": {
       "model_id": "b534b98e85304cd3bacf0bdc61d04c80",
       "version_major": 2,
       "version_minor": 0
      },
      "text/plain": [
       "HBox(children=(FloatProgress(value=0.0, max=10.0), HTML(value='')))"
      ]
     },
     "metadata": {},
     "output_type": "display_data"
    },
    {
     "name": "stderr",
     "output_type": "stream",
     "text": [
      "C:\\Users\\tilof\\AppData\\Local\\Programs\\Python\\Python310\\lib\\site-packages\\torchmetrics\\utilities\\prints.py:36: UserWarning: Average precision score for one or more classes was `nan`. Ignoring these classes in macro-average\n",
      "  warnings.warn(*args, **kwargs)\n"
     ]
    },
    {
     "name": "stdout",
     "output_type": "stream",
     "text": [
      "\n",
      "Best mAP: 0.592\n"
     ]
    },
    {
     "data": {
      "image/png": "[encoded data removed]",
      "text/plain": [
       "<Figure size 1200x400 with 2 Axes>"
      ]
     },
     "metadata": {},
     "output_type": "display_data"
    }
   ],
   "source": [
    "model = MultiModalClassifier(2048, 4096, 20)  # initialize your module\n",
    "\n",
    "solver = Solver(\n",
    "    model=model,\n",
    "    data={\n",
    "        'train': train_ds,\n",
    "        'val': val_ds\n",
    "    },\n",
    "    loss='BCEWithLogitsLoss',\n",
    "    loss_config={},\n",
    "    optimizer='Adam',\n",
    "    optimizer_config={'lr': 1e-4},\n",
    "    batch_size=32,\n",
    "    metric='AveragePrecision', # see torchmetrics.AveragePrecision for details\n",
    "    metric_config={'num_labels': num_classes, 'task': 'multilabel'},\n",
    ")\n",
    "\n",
    "hist = solver.train(num_epochs=num_epochs)\n",
    "print(f\"Best mAP: {max(hist['val_acc']):.3f}\")\n",
    "show_training(hist)"
   ]
  },
  {
   "cell_type": "markdown",
   "metadata": {},
   "source": [
    "## Task 1.2: Gated Fusion (12 Points)\n",
    "\n",
    "Implement a model that fused both modalities using a [Gated Multimodal Unit](https://arxiv.org/pdf/1702.01992.pdf). After fusion, forward the resul through a simple MLP for prediction."
   ]
  },
  {
   "cell_type": "code",
   "execution_count": 6,
   "metadata": {},
   "outputs": [],
   "source": [
    "############################################################\n",
    "##                   START OF YOUR CODE                   ##\n",
    "############################################################\n",
    "\n",
    "class GMU(nn.Module):\n",
    "    def __init__(self, visual_embedding_size, auditory_embedding_size, hidden_size, num_classes):\n",
    "        super().__init__()\n",
    "        \n",
    "        # Hyperparameters\n",
    "        self.visual_embedding_size = visual_embedding_size\n",
    "        self.auditory_embedding_size = auditory_embedding_size\n",
    "        self.hidden_size = hidden_size\n",
    "        self.num_classes = num_classes\n",
    "        \n",
    "        # Layers\n",
    "        \n",
    "        # Visual Gate\n",
    "        self.fc_xv = nn.Linear(visual_embedding_size, hidden_size, bias=False)\n",
    "        self.activation_xv = nn.Tanh()\n",
    "        \n",
    "        # Auditory Gate\n",
    "        self.fc_xa= nn.Linear(auditory_embedding_size, hidden_size, bias=False)\n",
    "        self.activation_xa = nn.Tanh()\n",
    "        \n",
    "        # Z-Gate\n",
    "        self.fc_gate = nn.Linear(2 * hidden_size, hidden_size, bias=False)\n",
    "        self.activation_gate = nn.Sigmoid()\n",
    "\n",
    "        # Classification Layer\n",
    "        self.fc = nn.Linear(hidden_size, num_classes)\n",
    "        \n",
    "    def forward(self, input):\n",
    "        # Extract xt and xv\n",
    "        xa, xv = input\n",
    "        \n",
    "        # Run xv, xa and z through the gates and compute hv, ht and z\n",
    "        hv = self.activation_xv(self.fc_xv(xv))\n",
    "        ha = self.activation_xa(self.fc_xa(xa))\n",
    "        z = self.activation_gate(self.fc_gate(torch.cat([ha, hv], axis=1)))\n",
    "\n",
    "        # Compute h\n",
    "        h = z * hv + (1.0 - z) * ha\n",
    "\n",
    "        # Classify h\n",
    "        out = self.fc(h)\n",
    "\n",
    "        return out\n",
    "\n",
    "############################################################\n",
    "##                   END OF YOUR CODE                     ##\n",
    "############################################################"
   ]
  },
  {
   "cell_type": "code",
   "execution_count": 7,
   "metadata": {},
   "outputs": [
    {
     "data": {
      "application/vnd.jupyter.widget-view+json": {
       "model_id": "38f4f4667399435b9997282629a6ecf0",
       "version_major": 2,
       "version_minor": 0
      },
      "text/plain": [
       "HBox(children=(FloatProgress(value=0.0, max=10.0), HTML(value='')))"
      ]
     },
     "metadata": {},
     "output_type": "display_data"
    },
    {
     "name": "stdout",
     "output_type": "stream",
     "text": [
      "\n",
      "Best mAP: 0.615\n"
     ]
    },
    {
     "data": {
      "image/png": "[encoded data removed]",
      "text/plain": [
       "<Figure size 1200x400 with 2 Axes>"
      ]
     },
     "metadata": {},
     "output_type": "display_data"
    }
   ],
   "source": [
    "model = GMU(2048, 4096, 1500, 20)\n",
    "\n",
    "solver = Solver(\n",
    "    model=model,\n",
    "    data={\n",
    "        'train': train_ds,\n",
    "        'val': val_ds\n",
    "    },\n",
    "    loss='BCEWithLogitsLoss',\n",
    "    loss_config={},\n",
    "    optimizer='Adam',\n",
    "    optimizer_config={'lr': 1e-4},\n",
    "    batch_size=32,\n",
    "    metric='AveragePrecision',\n",
    "    metric_config={'num_labels': num_classes, 'task': 'multilabel'},\n",
    ")\n",
    "\n",
    "hist = solver.train(num_epochs=num_epochs)\n",
    "print(f\"Best mAP: {max(hist['val_acc']):.3f}\")\n",
    "show_training(hist)"
   ]
  },
  {
   "cell_type": "markdown",
   "metadata": {},
   "source": [
    "## Task 1.3 (Optional)\n",
    "Can you get even better? Feel free to experiment with other fusion techniques."
   ]
  },
  {
   "cell_type": "markdown",
   "metadata": {},
   "source": [
    "# 2. CLIP: Zero-Shot Evaluation\n",
    "\n",
    "---\n",
    "The [CLIP](https://arxiv.org/abs/2103.00020) model is pre-trained on a large set of image-caption pairs using a contrastive loss. For this, the images and the text are embedded by two separate encoders and compared with the cosine similarity. Positive image-text pairs should be more similar than negative pairs in the representation space.\n",
    "\n",
    "This allows an evaluation using zero-shot classification, which we will perform in the following using the CIFAR10 dataset. The idea is to classify the images without explicitly training the model on these classes. This is possible due to the capabilities of the text encoder to capture the classes and the coordinated representation space.\n",
    "\n",
    "<br>\n",
    "\n",
    "<center><img src=\"https://raw.githubusercontent.com/openai/CLIP/main/CLIP.png\" width=1024 height=512/></center>\n",
    "\n",
    "<br>\n",
    "\n",
    "You can see the concept of performing zero-shot classification on the right side of the figure. It is a two-stage process:\n",
    "1. The text encoder is utilized to embed the class names. It is common to insert the class name into a prompt beforehand to provide more context to the model.\n",
    "2. Embed the image with the image encoder and compare the resulting representations with all previously computed text embeddings. Use the cosine similarity to find the best matching class.\n",
    "\n",
    "Let's start by installing the model from the official repository as well as some dependencies."
   ]
  },
  {
   "cell_type": "code",
   "execution_count": 8,
   "metadata": {},
   "outputs": [
    {
     "name": "stdout",
     "output_type": "stream",
     "text": [
      "Collecting ftfy\n",
      "  Downloading ftfy-6.1.1-py3-none-any.whl (53 kB)\n",
      "     ---------------------------------------- 53.1/53.1 kB 2.7 MB/s eta 0:00:00\n",
      "Collecting regex\n",
      "  Downloading regex-2022.10.31-cp310-cp310-win_amd64.whl (267 kB)\n",
      "     -------------------------------------- 267.7/267.7 kB 5.6 MB/s eta 0:00:00\n",
      "Requirement already satisfied: tqdm in c:\\users\\tilof\\appdata\\local\\programs\\python\\python310\\lib\\site-packages (4.43.0)\n",
      "Requirement already satisfied: wcwidth>=0.2.5 in c:\\users\\tilof\\appdata\\local\\programs\\python\\python310\\lib\\site-packages (from ftfy) (0.2.5)\n",
      "Installing collected packages: regex, ftfy\n",
      "Successfully installed ftfy-6.1.1 regex-2022.10.31\n"
     ]
    },
    {
     "name": "stderr",
     "output_type": "stream",
     "text": [
      "WARNING: Ignoring invalid distribution -rotobuf (c:\\users\\tilof\\appdata\\local\\programs\\python\\python310\\lib\\site-packages)\n",
      "WARNING: Ignoring invalid distribution -rotobuf (c:\\users\\tilof\\appdata\\local\\programs\\python\\python310\\lib\\site-packages)\n",
      "WARNING: Ignoring invalid distribution -rotobuf (c:\\users\\tilof\\appdata\\local\\programs\\python\\python310\\lib\\site-packages)\n",
      "WARNING: Ignoring invalid distribution -rotobuf (c:\\users\\tilof\\appdata\\local\\programs\\python\\python310\\lib\\site-packages)\n",
      "WARNING: Ignoring invalid distribution -rotobuf (c:\\users\\tilof\\appdata\\local\\programs\\python\\python310\\lib\\site-packages)\n",
      "WARNING: Ignoring invalid distribution -rotobuf (c:\\users\\tilof\\appdata\\local\\programs\\python\\python310\\lib\\site-packages)\n",
      "WARNING: Ignoring invalid distribution -rotobuf (c:\\users\\tilof\\appdata\\local\\programs\\python\\python310\\lib\\site-packages)\n",
      "WARNING: Ignoring invalid distribution -rotobuf (c:\\users\\tilof\\appdata\\local\\programs\\python\\python310\\lib\\site-packages)\n"
     ]
    },
    {
     "name": "stdout",
     "output_type": "stream",
     "text": [
      "Collecting git+https://github.com/openai/CLIP.git\n",
      "  Cloning https://github.com/openai/CLIP.git to c:\\users\\tilof\\appdata\\local\\temp\\pip-req-build-y5nbi216\n",
      "  Resolved https://github.com/openai/CLIP.git to commit 3702849800aa56e2223035bccd1c6ef91c704ca8\n",
      "  Preparing metadata (setup.py): started\n",
      "  Preparing metadata (setup.py): finished with status 'done'\n",
      "Requirement already satisfied: ftfy in c:\\users\\tilof\\appdata\\local\\programs\\python\\python310\\lib\\site-packages (from clip==1.0) (6.1.1)\n",
      "Requirement already satisfied: regex in c:\\users\\tilof\\appdata\\local\\programs\\python\\python310\\lib\\site-packages (from clip==1.0) (2022.10.31)\n",
      "Requirement already satisfied: tqdm in c:\\users\\tilof\\appdata\\local\\programs\\python\\python310\\lib\\site-packages (from clip==1.0) (4.43.0)\n",
      "Requirement already satisfied: torch in c:\\users\\tilof\\appdata\\local\\programs\\python\\python310\\lib\\site-packages (from clip==1.0) (1.13.1+cu117)\n",
      "Requirement already satisfied: torchvision in c:\\users\\tilof\\appdata\\local\\programs\\python\\python310\\lib\\site-packages (from clip==1.0) (0.14.1+cu117)\n",
      "Requirement already satisfied: wcwidth>=0.2.5 in c:\\users\\tilof\\appdata\\local\\programs\\python\\python310\\lib\\site-packages (from ftfy->clip==1.0) (0.2.5)\n",
      "Requirement already satisfied: typing-extensions in c:\\users\\tilof\\appdata\\local\\programs\\python\\python310\\lib\\site-packages (from torch->clip==1.0) (4.3.0)\n",
      "Requirement already satisfied: numpy in c:\\users\\tilof\\appdata\\local\\programs\\python\\python310\\lib\\site-packages (from torchvision->clip==1.0) (1.23.1)\n",
      "Requirement already satisfied: requests in c:\\users\\tilof\\appdata\\local\\programs\\python\\python310\\lib\\site-packages (from torchvision->clip==1.0) (2.28.1)\n",
      "Requirement already satisfied: pillow!=8.3.*,>=5.3.0 in c:\\users\\tilof\\appdata\\local\\programs\\python\\python310\\lib\\site-packages (from torchvision->clip==1.0) (9.2.0)\n",
      "Requirement already satisfied: urllib3<1.27,>=1.21.1 in c:\\users\\tilof\\appdata\\local\\programs\\python\\python310\\lib\\site-packages (from requests->torchvision->clip==1.0) (1.26.11)\n",
      "Requirement already satisfied: idna<4,>=2.5 in c:\\users\\tilof\\appdata\\local\\programs\\python\\python310\\lib\\site-packages (from requests->torchvision->clip==1.0) (3.3)\n",
      "Requirement already satisfied: certifi>=2017.4.17 in c:\\users\\tilof\\appdata\\local\\programs\\python\\python310\\lib\\site-packages (from requests->torchvision->clip==1.0) (2022.6.15)\n",
      "Requirement already satisfied: charset-normalizer<3,>=2 in c:\\users\\tilof\\appdata\\local\\programs\\python\\python310\\lib\\site-packages (from requests->torchvision->clip==1.0) (2.1.0)\n",
      "Building wheels for collected packages: clip\n",
      "  Building wheel for clip (setup.py): started\n",
      "  Building wheel for clip (setup.py): finished with status 'done'\n",
      "  Created wheel for clip: filename=clip-1.0-py3-none-any.whl size=1369447 sha256=e66e29e86b8ad13aa87a20a5171c7d0db04c0071ce40794446879edfaab8579a\n",
      "  Stored in directory: C:\\Users\\tilof\\AppData\\Local\\Temp\\pip-ephem-wheel-cache-7qxoz5xb\\wheels\\da\\2b\\4c\\d6691fa9597aac8bb85d2ac13b112deb897d5b50f5ad9a37e4\n",
      "Successfully built clip\n",
      "Installing collected packages: clip\n",
      "Successfully installed clip-1.0\n"
     ]
    },
    {
     "name": "stderr",
     "output_type": "stream",
     "text": [
      "WARNING: Ignoring invalid distribution -rotobuf (c:\\users\\tilof\\appdata\\local\\programs\\python\\python310\\lib\\site-packages)\n",
      "WARNING: Ignoring invalid distribution -rotobuf (c:\\users\\tilof\\appdata\\local\\programs\\python\\python310\\lib\\site-packages)\n",
      "  Running command git clone --filter=blob:none --quiet https://github.com/openai/CLIP.git 'C:\\Users\\tilof\\AppData\\Local\\Temp\\pip-req-build-y5nbi216'\n",
      "WARNING: Ignoring invalid distribution -rotobuf (c:\\users\\tilof\\appdata\\local\\programs\\python\\python310\\lib\\site-packages)\n",
      "WARNING: Ignoring invalid distribution -rotobuf (c:\\users\\tilof\\appdata\\local\\programs\\python\\python310\\lib\\site-packages)\n",
      "WARNING: Ignoring invalid distribution -rotobuf (c:\\users\\tilof\\appdata\\local\\programs\\python\\python310\\lib\\site-packages)\n",
      "WARNING: Ignoring invalid distribution -rotobuf (c:\\users\\tilof\\appdata\\local\\programs\\python\\python310\\lib\\site-packages)\n",
      "WARNING: Ignoring invalid distribution -rotobuf (c:\\users\\tilof\\appdata\\local\\programs\\python\\python310\\lib\\site-packages)\n"
     ]
    }
   ],
   "source": [
    "!pip install ftfy regex tqdm\n",
    "!pip install git+https://github.com/openai/CLIP.git"
   ]
  },
  {
   "cell_type": "code",
   "execution_count": 15,
   "metadata": {},
   "outputs": [],
   "source": [
    "import clip\n",
    "import torch\n",
    "import torch.nn.functional as F\n",
    "from torch.utils.data import DataLoader\n",
    "from torchvision.datasets import CIFAR10\n",
    "from tqdm import tqdm\n",
    "\n",
    "# The CPU should be sufficient for this task\n",
    "device = 'cuda' if torch.cuda.is_available() else 'cpu'"
   ]
  },
  {
   "cell_type": "markdown",
   "metadata": {},
   "source": [
    "CLIP was trained with different image encoders, which are listed below. Mainly different sized ResNets and visual transformers are used. Due to limitations in processing power, we'll use the ResNet50 (`RN50`)."
   ]
  },
  {
   "cell_type": "code",
   "execution_count": 16,
   "metadata": {},
   "outputs": [
    {
     "data": {
      "text/plain": [
       "['RN50',\n",
       " 'RN101',\n",
       " 'RN50x4',\n",
       " 'RN50x16',\n",
       " 'RN50x64',\n",
       " 'ViT-B/32',\n",
       " 'ViT-B/16',\n",
       " 'ViT-L/14',\n",
       " 'ViT-L/14@336px']"
      ]
     },
     "execution_count": 16,
     "metadata": {},
     "output_type": "execute_result"
    }
   ],
   "source": [
    "clip.available_models()"
   ]
  },
  {
   "cell_type": "code",
   "execution_count": 17,
   "metadata": {},
   "outputs": [
    {
     "data": {
      "text/plain": [
       "Compose(\n",
       "    Resize(size=224, interpolation=bicubic, max_size=None, antialias=None)\n",
       "    CenterCrop(size=(224, 224))\n",
       "    <function _convert_image_to_rgb at 0x000001BA85BDC8B0>\n",
       "    ToTensor()\n",
       "    Normalize(mean=(0.48145466, 0.4578275, 0.40821073), std=(0.26862954, 0.26130258, 0.27577711))\n",
       ")"
      ]
     },
     "execution_count": 17,
     "metadata": {},
     "output_type": "execute_result"
    }
   ],
   "source": [
    "# Load the model\n",
    "model, preprocess = clip.load(\"RN50\", device=device, download_root=None)\n",
    "model.eval()\n",
    "\n",
    "# This also provides a useful preprocessing pipeline for the images\n",
    "preprocess"
   ]
  },
  {
   "cell_type": "code",
   "execution_count": 18,
   "metadata": {},
   "outputs": [
    {
     "name": "stdout",
     "output_type": "stream",
     "text": [
      "Files already downloaded and verified\n"
     ]
    }
   ],
   "source": [
    "# Class labels of CIFAR10\n",
    "classes = ('plane', 'car', 'bird', 'cat', 'deer', 'dog', 'frog', 'horse', 'ship', 'truck')\n",
    "\n",
    "# Load the test set of CIFAR10 and add the preprocessing pipeline\n",
    "cifar10 = CIFAR10(root='./data', train=False, download=True, transform=preprocess)\n",
    "\n",
    "# Create a dataloader\n",
    "dl = DataLoader(cifar10, batch_size=64, num_workers=2, shuffle=False)"
   ]
  },
  {
   "cell_type": "markdown",
   "metadata": {},
   "source": [
    "## Cosine Similarity\n",
    "\n",
    "Given two vectors a and b the cosine similarity is defined as:\n",
    "\n",
    "$$\n",
    "    cos(\\mathbf{a}, \\mathbf{b}) = \\dfrac{\\langle \\mathbf{a}, \\mathbf{b} \\rangle}{||\\mathbf{a}||\\cdot ||\\mathbf{b}||} = \\dfrac{ \\mathbf{a}^T\\mathbf{b}}{||\\mathbf{a}||\\cdot ||\\mathbf{b}||}\n",
    "$$\n",
    "\n",
    "This reduces to the standard inner product if your vectors are normalized to unit norm. We can take advantage of this to simplify the calculation of text and image similarity.\n"
   ]
  },
  {
   "cell_type": "markdown",
   "metadata": {},
   "source": [
    "## 2.1 Task: Text Embedding (8 Points)\n",
    "We start by embedding all class names using the text encoder. This can be achieved with the function `encode_text` of the CLIP model. The encoder expects text tokens from a [byte-pair encoding](https://huggingface.co/course/chapter6/5?fw=pt), that is implemented in `clip.tokenize`. It maps the raw stings to an int32 tensor. Follow these steps:\n",
    "\n",
    "1. Insert each classname into the template to create a prompt\n",
    "2. Tokenize the prompts with `clip.tokenize`\n",
    "3. Forward the result through the text encoder\n",
    "4. Normalize the embedding\n"
   ]
  },
  {
   "cell_type": "code",
   "execution_count": 33,
   "metadata": {},
   "outputs": [],
   "source": [
    "############################################################\n",
    "##                   START OF YOUR CODE                   ##\n",
    "############################################################\n",
    "\n",
    "# let's start by using no prompt but simply the classname as sanity check\n",
    "template = 'In this image you can see a {}'\n",
    "\n",
    "# The result is a tensor of shape (1024, 10),\n",
    "# since we have 10 classes and the feature dimension of the text encoder is 1024\n",
    "text_embedding = None\n",
    "\n",
    "\n",
    "# we don't want to calculate gradient during evaluation\n",
    "with torch.no_grad():\n",
    "    text_embedding = []\n",
    "    for classname in classes:\n",
    "        # Parse template\n",
    "        text = template.format(classname)\n",
    "        # Text tokenization\n",
    "        text = clip.tokenize(text).to(device)\n",
    "        # Run tokens through the model and get embeddings\n",
    "        text_embeddings = model.encode_text(text)\n",
    "        # Result normalization\n",
    "        text_embeddings = (text_embeddings - torch.mean(text_embeddings)) / torch.std(text_embeddings)\n",
    "        text_embedding.append(text_embeddings.squeeze())\n",
    "\n",
    "    # Reshape embeddings\n",
    "    text_embedding = torch.stack(text_embedding, dim=1).to(device)\n",
    "\n",
    "############################################################\n",
    "##                    END OF YOUR CODE                    ##\n",
    "############################################################"
   ]
  },
  {
   "cell_type": "markdown",
   "metadata": {},
   "source": [
    "## 2.2 Task: Zero-Shot evaluation (8 Points)\n",
    "Finally we can make a prediction by forwarding the images and compare them to the text embeddings.\n",
    "\n",
    "1. Loop over the dataset\n",
    "2. Create visual embeddings with the image encoder\n",
    "3. Calculate the cosine similarity between the image and text embeddings\n",
    "4. Count the number of correct predictions\n",
    "\n",
    "The accuracy should be around `0.708` if no prompt was used."
   ]
  },
  {
   "cell_type": "code",
   "execution_count": 34,
   "metadata": {},
   "outputs": [
    {
     "name": "stderr",
     "output_type": "stream",
     "text": [
      "100%|█████████████████████████████████████████████████████████████████████████████████████████████| 157/157 [00:23<00:00,  6.75it/s]"
     ]
    },
    {
     "name": "stdout",
     "output_type": "stream",
     "text": [
      "Accuracy:  0.672\n"
     ]
    },
    {
     "name": "stderr",
     "output_type": "stream",
     "text": [
      "\n"
     ]
    }
   ],
   "source": [
    "############################################################\n",
    "##                   START OF YOUR CODE                   ##\n",
    "############################################################\n",
    "\n",
    "correct = 0\n",
    "total = len(cifar10)\n",
    "\n",
    "with torch.no_grad():\n",
    "    # Iterate over the dataset\n",
    "    for i, (images, target) in enumerate(tqdm(dl)):\n",
    "        # Get images and targets\n",
    "        images = images.to(device)\n",
    "        target = target.to(device)\n",
    "        \n",
    "        # Create visual embeddings\n",
    "        image_features = model.encode_image(images)\n",
    "\n",
    "        # Compute the cosine similarity between the image features and the text embeddings\n",
    "        similarity = torch.matmul(image_features, text_embedding) / (image_features.norm() * text_embedding.norm())\n",
    "\n",
    "        # Get the highest scores\n",
    "        pred = similarity.topk(1)[1]\n",
    "\n",
    "        # Compute correct rpedictions\n",
    "        correct += (pred.squeeze() == target).sum(0)\n",
    "\n",
    "print(f\"Accuracy: {correct / total: .3f}\")\n",
    "\n",
    "############################################################\n",
    "##                    END OF YOUR CODE                    ##\n",
    "############################################################"
   ]
  },
  {
   "cell_type": "markdown",
   "metadata": {},
   "source": [
    "## 2.3 Task: Prompt tuning (4 Points)\n",
    "Create a few other prompts and test the accuracy using the code from the previous tasks. You should increase the accuracy. Report you results."
   ]
  },
  {
   "cell_type": "markdown",
   "metadata": {},
   "source": [
    "# Your results:\n",
    "\n",
    "| Prompt | Accuracy | Comment            |\n",
    "|--------| --- |--------------------|\n",
    "| '{}'  | 0.708 | Could be better... |\n",
    "| 'A {}'  | 0.672 | Poor result |\n",
    "| 'This image contains {}' | 71.5 | Improvment, but not significantly better |\n",
    "| 'There is {}' | 71.5 | Improvment, but not significantly better |\n",
    "| 'In this image you can see a {}' | 0.727 | Best result so far |\n",
    "| 'You can see a {} in this image' | 0.727 | Best result so far |"
   ]
  },
  {
   "cell_type": "code",
   "execution_count": null,
   "metadata": {},
   "outputs": [],
   "source": []
  }
 ],
 "metadata": {
  "kernelspec": {
   "display_name": "Python 3",
   "language": "python",
   "name": "python3"
  },
  "language_info": {
   "codemirror_mode": {
    "name": "ipython",
    "version": 3
   },
   "file_extension": ".py",
   "mimetype": "text/x-python",
   "name": "python",
   "nbconvert_exporter": "python",
   "pygments_lexer": "ipython3",
   "version": "3.10.0"
  }
 },
 "nbformat": 4,
 "nbformat_minor": 4
}
