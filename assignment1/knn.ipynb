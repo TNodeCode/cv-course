{
 "cells": [
  {
   "cell_type": "markdown",
   "id": "bcfb5226",
   "metadata": {},
   "source": [
    "# Deep Learning for Computer Vision\n",
    "\n",
    "---\n",
    "\n",
    "**Goethe University Frankfurt am Main**\n",
    "\n",
    "Winter Semester 2022/23\n",
    "\n",
    "<br>\n",
    "\n",
    "## *Assignment 1 (k-Nearest Neighbor)*\n",
    "\n",
    "---\n",
    "\n",
    "**Points:** 40<br>\n",
    "**Due:** 2.11.2022, 10 am<br>\n",
    "**Contact:** Matthias Fulde ([fulde@cs.uni-frankfurt.de](mailto:fulde@cs.uni-frankfurt.de))<br>\n",
    "\n",
    "---\n",
    "\n",
    "**Your Name:** Tilo-Lars Flasche\n",
    "\n",
    "<br>"
   ]
  },
  {
   "cell_type": "markdown",
   "id": "f64171c5",
   "metadata": {},
   "source": [
    "<br>\n",
    "\n",
    "## Table of Contents\n",
    "\n",
    "---\n",
    "\n",
    "- [1 Metrics](#1-Metrics-(10-Points))\n",
    "  - [1.1 Manhattan Distance](#1.1-Manhattan-Distance-(3-Points))\n",
    "  - [1.2 Euclidean Distance](#1.2-Euclidean-Distance-(7-Points))\n",
    "- [2 Image Classification](#2-Image-Classification-(15-Points))\n",
    "  - [2.1 Preparation](#2.1-Preparation-(1-Point))\n",
    "  - [2.2 Implementation](#2.2-Implementation-(7-Points))\n",
    "  - [2.3 Validation](#2.3-Validation-(7-Points))\n",
    "- [3 Preprocessing](#3-Preprocessing-(15-Points))\n",
    "  - [3.1 Image Filtering](#3.1-Image-Filtering-(4-Points))\n",
    "  - [3.2 Principal Component Analysis](#3.2-Principal-Component-Analysis-(11-Points))\n"
   ]
  },
  {
   "cell_type": "markdown",
   "id": "31afd2c5",
   "metadata": {},
   "source": [
    "<br>\n",
    "\n",
    "## Setup\n",
    "\n",
    "---\n",
    "\n",
    "In this notebook we use the libraries **Matplotlib**, **NumPy** and **OpenCV**. We recommend to use at least the 3.x versions of OpenCV. You can check your version with the statements below."
   ]
  },
  {
   "cell_type": "code",
   "execution_count": 1,
   "id": "8b879423",
   "metadata": {},
   "outputs": [
    {
     "data": {
      "text/plain": [
       "'4.6.0'"
      ]
     },
     "execution_count": 1,
     "metadata": {},
     "output_type": "execute_result"
    }
   ],
   "source": [
    "import numpy as np\n",
    "import cv2 as cv\n",
    "\n",
    "# Check installed OpenCV version.\n",
    "cv.__version__"
   ]
  },
  {
   "cell_type": "markdown",
   "id": "a752faf1",
   "metadata": {},
   "source": [
    "We want Matplotlib figures to appear within the notebook rather than inside a separate window, which is default in some environments, therefore we make use of the `%matplotlib` magic function to set the Matplotlib backend to inline."
   ]
  },
  {
   "cell_type": "code",
   "execution_count": 2,
   "id": "1d83e934",
   "metadata": {},
   "outputs": [],
   "source": [
    "import matplotlib.pyplot as plt\n",
    "\n",
    "# Set default color map and interpolation method for images.\n",
    "plt.rcParams['image.cmap'] = 'gray'\n",
    "plt.rcParams['image.interpolation'] = 'nearest'\n",
    "\n",
    "%matplotlib inline"
   ]
  },
  {
   "cell_type": "markdown",
   "id": "17b375f0",
   "metadata": {},
   "source": [
    "We import a utility function to load the CIFAR-10 dataset. See `data.py` for how it works."
   ]
  },
  {
   "cell_type": "code",
   "execution_count": 3,
   "id": "8ad532cb",
   "metadata": {},
   "outputs": [],
   "source": [
    "from data import load_CIFAR_10"
   ]
  },
  {
   "cell_type": "markdown",
   "id": "ac9a004f",
   "metadata": {},
   "source": [
    "<br>\n",
    "\n",
    "## Exercises\n",
    "\n",
    "---"
   ]
  },
  {
   "cell_type": "markdown",
   "id": "3c08eb33",
   "metadata": {},
   "source": [
    "### 1 Metrics (10 Points)\n",
    "\n",
    "---\n",
    "\n",
    "In machine learning, both in the supervised and unsupervised learning setup, many algorithms depend in some way on measuring distances between different objects.\n",
    "\n",
    "In general, a **metric**, or **distance function**, on a set $V$ is a function $d\\colon V \\times V \\to [0, \\infty),$ where for all $x,y,z \\in V$ the following conditions are satisfied:\n",
    "\n",
    "1. $d(x,y) = 0 \\iff x = y \\enspace$ (*identity*)\n",
    "2. $d(x,y) = d(y,x) \\enspace$ (*symmetry*)\n",
    "3. $d(x,y) \\leq d(x,z) + d(z,y) \\enspace$ (*triangle inequality*)\n",
    "\n",
    "An important class of metrics are those induced by a norm, which can be interpreted as the length of a vector in a vector space. In computer vision we usually deal with vectors in some finite dimensional real vector space $\\mathbb{R}^D,$ and the metrics used are often those that are induced by a $p$-norm.\n",
    "\n",
    "For vectors $\\mathbf{x} \\in \\mathbb{R}^D$ and integers $p \\in \\mathbf{N}$, the $p$**-norm** is defined as\n",
    "\n",
    "$$\n",
    "    \\lVert\\mathbf{x}\\rVert_p = \\left(\\sum_{i=1}^D \\lvert\\mathbf{x}_i\\rvert^p\\right)^\\frac{1}{p}.\n",
    "$$\n",
    "\n",
    "<br>\n",
    "For each of these norms we obtain a metric simply by measuring the length of the difference between two points, that is\n",
    "\n",
    "$$\n",
    "    d_p(\\mathbf{x},\\mathbf{y}) := \\lVert\\mathbf{x} - \\mathbf{y}\\rVert_p,\n",
    "    \\enspace\n",
    "    \\forall \\mathbf{x},\\mathbf{y} \\in \\mathbb{R}^D.\n",
    "$$\n",
    "\n",
    "These metrics are collectively referred to as $L^p$ distances."
   ]
  },
  {
   "cell_type": "markdown",
   "id": "73d27b6b",
   "metadata": {},
   "source": [
    "<br>\n",
    "\n",
    "### 1.2 Manhattan Distance (3 Points)\n",
    "\n",
    "---\n",
    "\n",
    "One such distance that is frequently used is the $L^1$ distance, also known as **Manhattan distance**, which is defined as the sum of the absolute values of the difference between two vectors. So we have\n",
    "\n",
    "$$\n",
    "    d_1(\\mathbf{x},\\mathbf{y})\n",
    "    :=\n",
    "    \\lVert\\mathbf{x} - \\mathbf{y}\\rVert_1\n",
    "    =\n",
    "    \\sum_{i=1}^D \\lvert\\mathbf{x}_i - \\mathbf{y}_i\\rvert,\n",
    "    \\enspace\n",
    "    \\forall \\mathbf{x}, \\mathbf{y} \\in \\mathbb{R}^D.\n",
    "$$\n",
    "\n",
    "This can be conceived as defining a space where it's only possible to move in right angles parallel to the coordinate axes."
   ]
  },
  {
   "cell_type": "markdown",
   "id": "cf62019b",
   "metadata": {},
   "source": [
    "<br>\n",
    "\n",
    "#### 1.1.1 Task\n",
    "\n",
    "Consider two design matrices $\\mathbf{X} \\in \\mathbb{R}^{N \\times D}$ and $\\mathbf{Y} \\in \\mathbb{R}^{M \\times D}$, where each row represents a *sample* and each column is a *feature*. We want to compute the pairwise $L^1$ distances between the samples in $\\mathbf{X}$ and the samples in $\\mathbf{Y}$ to obtain a distance matrix $\\mathbf{D} \\in \\mathbb{R}^{N \\times M}$.\n",
    "\n",
    "We want to do this without using loops, as this tends to slow down computation significantly. So, in order to practice vectorized, loop free programming, implement the $L^1$ distance using only NumPy operations.\n",
    "\n",
    "Do **not** use the `norm` function provided with NumPy's linear algebra library!\n",
    "\n",
    "<br>\n",
    "\n",
    "#### 1.1.2 Solution\n",
    "\n",
    "Complete the function definition below."
   ]
  },
  {
   "cell_type": "code",
   "execution_count": 4,
   "id": "0cb0e77e",
   "metadata": {},
   "outputs": [],
   "source": [
    "def d1(X, Y):\n",
    "    \"\"\"\n",
    "    Compute L1 distances between samples in X and Y.\n",
    "\n",
    "    Parameters:\n",
    "        - X: Design matrix with shape (N, D).\n",
    "        - Y: Design matrix with shape (M, D).\n",
    "\n",
    "    Returns:\n",
    "        - out: Distance matrix with shape (N, M).\n",
    "\n",
    "    \"\"\"\n",
    "    ############################################################\n",
    "    ###                  START OF YOUR CODE                  ###\n",
    "    ############################################################\n",
    "    \n",
    "    # Assert that both data sets have the same number of features\n",
    "    assert X.shape[1] == Y.shape[1]\n",
    "    \n",
    "    # Use numpy's repreat function to repreat each component of X M times.\n",
    "    # [1,2,3] will become [1,1,1,2,2,2,3,3,3] if M equals 3\n",
    "    Xr = np.repeat(X, Y.shape[0], axis=0)\n",
    "    \n",
    "    # Use numpy's tile function to repeat the Y array N times.\n",
    "    # [1,2,3] will become [1,2,3,1,2,3] if N equals 2\n",
    "    Yt = np.tile(Y, (X.shape[0],1))\n",
    "    \n",
    "    # Now we have an array Xr where each components appears M times\n",
    "    # and an array Yr where the whole array is repeated N times.\n",
    "    # We can use both arrays to calculate the pairwise L1 distances\n",
    "    \n",
    "    # Compute the L1 distance matrix where the first axis (index 0)\n",
    "    # represents the elements of X and the second axis (index 1) represents\n",
    "    # the elements of Y\n",
    "    L1 = np.abs(Xr - Yt).reshape(X.shape[0], Y.shape[0], X.shape[1]).sum(axis=2)\n",
    "\n",
    "    out = L1.T\n",
    "\n",
    "    ############################################################\n",
    "    ###                   END OF YOUR CODE                   ###\n",
    "    ############################################################\n",
    "    return out"
   ]
  },
  {
   "cell_type": "code",
   "execution_count": 5,
   "id": "ccf812c3-d8a1-42ac-8a6e-430a6d5f9ec4",
   "metadata": {},
   "outputs": [
    {
     "data": {
      "text/plain": [
       "array([[2, 3],\n",
       "       [7, 2]])"
      ]
     },
     "execution_count": 5,
     "metadata": {},
     "output_type": "execute_result"
    }
   ],
   "source": [
    "# Test the code\n",
    "X = np.array([[1,1],[3,4]])\n",
    "Y = np.array([[2,2],[4,5]])\n",
    "\n",
    "d1(X,Y)"
   ]
  },
  {
   "cell_type": "markdown",
   "id": "5b2baee4",
   "metadata": {},
   "source": [
    "<br>\n",
    "\n",
    "### 1.2 Euclidean Distance (7 Points)\n",
    "\n",
    "---\n",
    "\n",
    "Another metric that is often used is the $L^2$ distance, also known as **Euclidean distance**, which can be interpreted as an application of the Pythagorean theorem, computing the length of the hypotenuse in a right triangle. It is defined as\n",
    "\n",
    "$$\n",
    "    d_2(\\mathbf{x},\\mathbf{y})\n",
    "    =\n",
    "    \\lVert\\mathbf{x} - \\mathbf{y}\\rVert_2\n",
    "    =\n",
    "    \\sqrt{\\sum_{i=1}^D \\left(\\mathbf{x} - \\mathbf{y}\\right)_i^2},\n",
    "    \\enspace\n",
    "    \\forall \\mathbf{x}, \\mathbf{y} \\in \\mathbb{R}^D.\n",
    "$$\n",
    "\n",
    "The Euclidean distances corresponds to the length of a straight line between two points.\n",
    "\n",
    "<br>\n",
    "\n",
    "#### 1.2.1 Task (2 Points)\n",
    "\n",
    "In this exercise, the goal is again to compute a distance matrix from two sets of samples, using only low-level NumPy operations. However, before we do that, we first want to transform the formula given above.\n",
    "\n",
    "Derive a formula for the Euclidean distance that represents the term within the square root as two sums, and a dot product between the vectors $\\mathbf{x}$ and $\\mathbf{y}$.\n",
    "\n",
    "<br>\n",
    "\n",
    "#### 1.2.2 Solution"
   ]
  },
  {
   "cell_type": "markdown",
   "id": "c12b126c",
   "metadata": {},
   "source": [
    "*Write your solution here.*\n",
    "\n",
    "$$\n",
    "\\begin{array}{lcl}\n",
    "  \\sum_{i=1}^D \\left(\\mathbf{x} - \\mathbf{y}\\right)_i^2 & \n",
    "  = & x_1^2 + 2x_1y_1 + y_1^2 + ... + x_D^2 + 2x_Dy_D + y_D^2 \\\\\n",
    "  & = & \\sum\\limits_{i=1}^D x_i^2 \\sum\\limits_{i=1}^D y_i^2 + 2 \\mathbf{x} \\mathbf{y} \\\\\n",
    "\\end{array}\n",
    "$$\n",
    "\n",
    "- First we use the binomial formula to transform the sum of squared pairwise distances\n",
    "- Then we summarize the terms, so that there are two sums and one dot product"
   ]
  },
  {
   "cell_type": "markdown",
   "id": "14908975",
   "metadata": {},
   "source": [
    "<br>\n",
    "\n",
    "#### 1.2.3 Task (5 Points)\n",
    "\n",
    "Now use this result to write a fully vectorized function that computes the pairwise $L^2$ distances between two sets of observations, represented as design matrices $\\mathbf{X} \\in \\mathbb{R}^{N \\times D}$ and $\\mathbf{Y} \\in \\mathbb{R}^{M \\times D}$.\n",
    "\n",
    "Again, implement the calculation **without** using the `norm` function of NumPy!\n",
    "\n",
    "<br>\n",
    "\n",
    "#### 1.2.4 Solution\n",
    "\n",
    "Complete the function definition below."
   ]
  },
  {
   "cell_type": "code",
   "execution_count": 6,
   "id": "67175caa",
   "metadata": {},
   "outputs": [],
   "source": [
    "def d2(X, Y):\n",
    "    \"\"\"\n",
    "    Compute L2 distances between samples in X and Y.\n",
    "\n",
    "    Parameters:\n",
    "        - X: Design matrix with shape (N, D).\n",
    "        - Y: Design matrix with shape (M, D).\n",
    "\n",
    "    Returns:\n",
    "        - out: Distance matrix with shape (N, M).\n",
    "\n",
    "    \"\"\"\n",
    "    ############################################################\n",
    "    ###                  START OF YOUR CODE                  ###\n",
    "    ############################################################\n",
    "\n",
    "    # Assert that both data sets have the same number of features\n",
    "    assert X.shape[1] == Y.shape[1]\n",
    "    \n",
    "    # Use numpy's repreat function to repreat each component of X M times.\n",
    "    # [1,2,3] will become [1,1,1,2,2,2,3,3,3] if M equals 3\n",
    "    Xr = np.repeat(X, Y.shape[0], axis=0)\n",
    "    \n",
    "    # Use numpy's tile function to repeat the Y array N times.\n",
    "    # [1,2,3] will become [1,2,3,1,2,3] if N equals 2\n",
    "    Yt = np.tile(Y, (X.shape[0],1))\n",
    "    \n",
    "    # Now we have an array Xr where each components appears M times\n",
    "    # and an array Yr where the whole array is repeated N times.\n",
    "    # We can use both arrays to calculate the pairwise L1 distances\n",
    "    \n",
    "    # Compute the L2 distance matrix where the first axis (index 0)\n",
    "    # represents the elements of X and the second axis (index 1) represents\n",
    "    # the elements of Y\n",
    "    L2 = (((Xr - Yt)**2).reshape(X.shape[0], Y.shape[0], X.shape[1]).sum(axis=2))**0.5\n",
    "    \n",
    "    out = L2.T\n",
    "\n",
    "    ############################################################\n",
    "    ###                   END OF YOUR CODE                   ###\n",
    "    ############################################################\n",
    "    return out"
   ]
  },
  {
   "cell_type": "code",
   "execution_count": 7,
   "id": "19155194-efdf-487f-b755-a83ac8b8d0f9",
   "metadata": {},
   "outputs": [
    {
     "data": {
      "text/plain": [
       "array([[1.41421356, 2.23606798],\n",
       "       [5.        , 1.41421356]])"
      ]
     },
     "execution_count": 7,
     "metadata": {},
     "output_type": "execute_result"
    }
   ],
   "source": [
    "# Test the code\n",
    "X = np.array([[1,1],[3,4]])\n",
    "Y = np.array([[2,2],[4,5]])\n",
    "\n",
    "d2(X,Y)"
   ]
  },
  {
   "cell_type": "markdown",
   "id": "3651ac0f",
   "metadata": {},
   "source": [
    "<br>\n",
    "\n",
    "### 2 Image Classification (15 Points)\n",
    "\n",
    "---\n",
    "\n",
    "The **k-nearest neighbor** (kNN) classification algorithm as described in the lecture builds on a simple non-parametric model, where the class of an image is solely determined by its distance to the samples in the training data set.\n",
    "\n",
    "The kNN classifier consists of two stages:\n",
    "\n",
    "- During **training**, the classifier takes the training data and simply remembers it.\n",
    "- During **testing**, it categorizes a test image by comparing it to the stored training images. It selects the most common label out of the $k$ most similar training examples as its prediction.\n",
    "\n",
    "The value of $k$ and the choice of the distance function used to compare the samples are hyperparameters of the model.\n",
    "\n",
    "---\n",
    "\n",
    "In this exercise we want to implement kNN and use it on the CIFAR-10 data set, which consists of $50.000$ training images and $10.000$ test images, where each sample is a small $32 \\times 32$ pixel color image belonging to one of ten classes.\n",
    "\n",
    "The first step is to load the data into main memory.\n",
    "\n",
    "Please note that loading the complete data set into main memory and converting it to floats might exceed the memory capacity of older machines. In case you encounter problems loading the data, you should try loading a single batch first by adjusting the definition of the `load_CIFAR_10` function, which is imported from the `data.py` module."
   ]
  },
  {
   "cell_type": "code",
   "execution_count": 8,
   "id": "03d98379",
   "metadata": {},
   "outputs": [],
   "source": [
    "# Load the raw CIFAR-10 data.\n",
    "X_train, y_train, X_test, y_test = load_CIFAR_10('datasets/cifar-10-batches-py')"
   ]
  },
  {
   "cell_type": "markdown",
   "id": "cda43baa",
   "metadata": {},
   "source": [
    "In order to see how the images are stored, we print out the shape of the data sets."
   ]
  },
  {
   "cell_type": "code",
   "execution_count": 9,
   "id": "371fe17d",
   "metadata": {},
   "outputs": [
    {
     "name": "stdout",
     "output_type": "stream",
     "text": [
      "Training data shape: (50000, 32, 32, 3)\n",
      "Training labels shape: (50000,)\n",
      "Test data shape: (10000, 32, 32, 3)\n",
      "Test labels shape: (10000,)\n"
     ]
    }
   ],
   "source": [
    "print(\n",
    "    f'Training data shape: {X_train.shape}',\n",
    "    f'Training labels shape: {y_train.shape}',\n",
    "    f'Test data shape: {X_test.shape}',\n",
    "    f'Test labels shape: {y_test.shape}',\n",
    "    sep = '\\n'\n",
    ")"
   ]
  },
  {
   "cell_type": "markdown",
   "id": "7cc828cc",
   "metadata": {},
   "source": [
    "<br>\n",
    "\n",
    "### 2.1 Preparation (1 Point)\n",
    "\n",
    "Whenever we devise a machine learning algorithm, it's good practice to have a closer look at the data that we're about to use. So let's inspect the data set by selecting a random batch of five images per class."
   ]
  },
  {
   "cell_type": "code",
   "execution_count": 10,
   "id": "c5d82cf4",
   "metadata": {},
   "outputs": [
    {
     "data": {
      "image/png": "[encoded data removed]",
      "text/plain": [
       "<Figure size 576x360 with 50 Axes>"
      ]
     },
     "metadata": {
      "needs_background": "light"
     },
     "output_type": "display_data"
    }
   ],
   "source": [
    "# Visualize some examples from the dataset.\n",
    "labels = ['plane', 'car', 'bird', 'cat', 'deer', 'dog', 'frog', 'horse', 'ship', 'truck']\n",
    "\n",
    "num_classes = 10\n",
    "num_samples = 5\n",
    "\n",
    "figure = plt.figure(figsize=(8, 5))\n",
    "\n",
    "for y, label in enumerate(labels):\n",
    "    indices = np.random.choice(np.flatnonzero(y_train == y), num_samples, replace=False)\n",
    "\n",
    "    # Show images in a grid with one column per class.\n",
    "    for i, index in enumerate(indices):\n",
    "        plt.subplot(num_samples, num_classes, i*num_classes + y + 1)\n",
    "        plt.axis(False)\n",
    "        plt.imshow(X_train[index].astype(np.uint8))\n",
    "\n",
    "        if i == 0:\n",
    "            plt.title(label)\n",
    "\n",
    "plt.show()"
   ]
  },
  {
   "cell_type": "markdown",
   "id": "a4b2db3b",
   "metadata": {},
   "source": [
    "To reduce the time for code execution in this exercise we subsample the training and test data."
   ]
  },
  {
   "cell_type": "code",
   "execution_count": 11,
   "id": "569c4d16",
   "metadata": {},
   "outputs": [],
   "source": [
    "# We use 5000 examples from the training set.\n",
    "indices = np.arange(5000)\n",
    "\n",
    "X_train = X_train[indices]\n",
    "y_train = y_train[indices]\n",
    "\n",
    "# We use 500 examples from the test set.\n",
    "indices = np.arange(500)\n",
    "\n",
    "X_test = X_test[indices]\n",
    "y_test = y_test[indices]"
   ]
  },
  {
   "cell_type": "markdown",
   "id": "7ba8b6f8",
   "metadata": {},
   "source": [
    "The kNN algorithm expects the data points in the training and test set to be vectors and not tensors, so we have to convert the images to vectors before we can use them.\n",
    "\n",
    "<br>\n",
    "\n",
    "#### 2.1.1 Task\n",
    "\n",
    "Complete the definition of the `to_vector` function below. The function should take a set of images shaped like the training and test data loaded before and transform each image into a vector. Use only vectorized NumPy operations.\n",
    "\n",
    "<br>\n",
    "\n",
    "#### 2.1.2 Solution\n",
    "\n",
    "Fill your code in the code cell below."
   ]
  },
  {
   "cell_type": "code",
   "execution_count": 12,
   "id": "01d5c89f",
   "metadata": {},
   "outputs": [],
   "source": [
    "def to_vector(images):\n",
    "    \"\"\"\n",
    "    Transform images into vectors.\n",
    "    Expects a data set where samples are stored in the first dimension.\n",
    "    \"\"\"\n",
    "    ############################################################\n",
    "    ###                  START OF YOUR CODE                  ###\n",
    "    ############################################################\n",
    "\n",
    "    # Flatten the image\n",
    "    out = images.reshape(images.shape[0], -1)\n",
    "\n",
    "    ############################################################\n",
    "    ###                   END OF YOUR CODE                   ###\n",
    "    ############################################################\n",
    "    return out"
   ]
  },
  {
   "cell_type": "markdown",
   "id": "3f379243",
   "metadata": {},
   "source": [
    "Let's transform the samples for training and testing."
   ]
  },
  {
   "cell_type": "code",
   "execution_count": 13,
   "id": "12aa5ed5",
   "metadata": {},
   "outputs": [
    {
     "name": "stdout",
     "output_type": "stream",
     "text": [
      "Training data shape: (5000, 3072)\n",
      "Test data shape: (500, 3072)\n"
     ]
    }
   ],
   "source": [
    "# Transform training and test images into vectors.\n",
    "X_train_v = to_vector(X_train)\n",
    "X_test_v  = to_vector(X_test)\n",
    "\n",
    "print(\n",
    "    f'Training data shape: {X_train_v.shape}',\n",
    "    f'Test data shape: {X_test_v.shape}',\n",
    "    sep='\\n'\n",
    ")"
   ]
  },
  {
   "cell_type": "markdown",
   "id": "bd5e775f",
   "metadata": {},
   "source": [
    "<br>\n",
    "\n",
    "### 2.2 Implementation (7 Points)\n",
    "\n",
    "---\n",
    "\n",
    "Now, with everything in place, we want to implement the kNN algorithm.\n",
    "\n",
    "<br>\n",
    "\n",
    "#### 2.2.1 Task\n",
    "\n",
    "Complete the definition of the `predict` method below, so that it predicts labels based on the 𝑘 nearest neighbors for a given test set. In case there is more than one most common label, break ties by choosing the *smaller* label. Again, use only vectorized operations for your implementation.\n",
    "\n",
    "<br>\n",
    "\n",
    "#### 2.2.2 Solution\n",
    "\n",
    "Fill your code in the cell below."
   ]
  },
  {
   "cell_type": "code",
   "execution_count": 14,
   "id": "2f107174",
   "metadata": {},
   "outputs": [],
   "source": [
    "class KNN():\n",
    "\n",
    "    def train(self, X, y):\n",
    "        \"\"\"\n",
    "        Training only means to store the given training data.\n",
    "        All computations are deferred to the test phase.\n",
    "\n",
    "        Parameters:\n",
    "            - X: Training data.\n",
    "            - y: Training labels.\n",
    "\n",
    "        \"\"\"\n",
    "        self.X_train = X\n",
    "        self.y_train = y\n",
    "\n",
    "    def predict(self, X, d, k):\n",
    "        \"\"\"\n",
    "        Predict labels for points in a given data set X.\n",
    "\n",
    "        Parameters:\n",
    "            - X: Test data.\n",
    "            - d: Distance function.\n",
    "            - k: Number of nearest neighbors.\n",
    "\n",
    "        \"\"\"\n",
    "        num_test, _ = X.shape\n",
    "\n",
    "        # Create array for predicted labels.\n",
    "        y_pred = np.empty(num_test)\n",
    "\n",
    "\n",
    "        for i in range(num_test):\n",
    "            ############################################################\n",
    "            ###                  START OF YOUR CODE                  ###\n",
    "            ############################################################\n",
    "            \n",
    "            # Compute distance matrix (I had to move the calculation into\n",
    "            # the for loop because it required too much memory).\n",
    "            distances = d(X[i].reshape(1,-1), self.X_train)\n",
    "            \n",
    "            # reshape the matrix to a 1D array\n",
    "            distances = distances.reshape(distances.shape[0])\n",
    "            \n",
    "            # find the indices of the k smallest distances\n",
    "            idx = np.argpartition(distances, k, axis=0)\n",
    "            \n",
    "            # select the k smallest distances\n",
    "            k_smallest_distances = distances[idx]\n",
    "            \n",
    "            # get the classes of the k nearest neighbors\n",
    "            y_neighbors = self.y_train[idx][0:k]\n",
    "            \n",
    "            # get the mode (the most frequent value) of the k nearest neighbors\n",
    "            y_pred[i] = np.bincount(y_neighbors).argmax()\n",
    "\n",
    "            ############################################################\n",
    "            ###                   END OF YOUR CODE                   ###\n",
    "            ############################################################\n",
    "\n",
    "        return y_pred"
   ]
  },
  {
   "cell_type": "markdown",
   "id": "5785095a",
   "metadata": {},
   "source": [
    "#### 2.2.3 Results\n",
    "\n",
    "To test your implementation, you can run the following code cells."
   ]
  },
  {
   "cell_type": "code",
   "execution_count": 15,
   "id": "c7e38d04",
   "metadata": {},
   "outputs": [],
   "source": [
    "# Create instance of kNN classifier.\n",
    "model = KNN()\n",
    "\n",
    "# During training we only store the data.\n",
    "model.train(X_train_v, y_train)\n",
    "\n",
    "# Predict labels for test data using Euclidean distance and just the nearest neighbor.\n",
    "y_pred = model.predict(X_test_v, d2, 1)"
   ]
  },
  {
   "cell_type": "markdown",
   "id": "0aafc1bd",
   "metadata": {},
   "source": [
    "You should expect to see approximately $27\\%$ accuracy."
   ]
  },
  {
   "cell_type": "code",
   "execution_count": 16,
   "id": "1fa98278",
   "metadata": {},
   "outputs": [
    {
     "name": "stdout",
     "output_type": "stream",
     "text": [
      "Accuracy: 27.40 %\n"
     ]
    }
   ],
   "source": [
    "# Compute and print the fraction of correctly predicted examples.\n",
    "num_correct = np.sum(y_pred == y_test)\n",
    "num_test, _ = X_test_v.shape\n",
    "\n",
    "print(f'Accuracy: {num_correct / num_test * 100:.2f} %')"
   ]
  },
  {
   "cell_type": "markdown",
   "id": "7a9480ba",
   "metadata": {},
   "source": [
    "<br>\n",
    "\n",
    "### 2.3 Validation (7 Points)\n",
    "\n",
    "---\n",
    "\n",
    "To determine which value of $k$ works best for our model, we want to perform *cross validation*. So instead of separating out a dedicated validation set from our training data set to tune this hyperparameter, we select some candidate values for $k$ and for each one do the following:\n",
    "\n",
    "- Split the training set into $n$ disjunct subsets of equal size.\n",
    "- For $i$ from $1 \\ldots n$:\n",
    "  - Select fold $i$ as the validation set and the other $n - 1$ folds as the training set.\n",
    "  - Evaluate the model with the validation set.\n",
    "  - Store the accuracy of the predictions.\n",
    "- Calculate the average accuracy for the current value of $k$.\n",
    "\n",
    "Finally we select the value of $k$ that performed best and evaluate the model again with this value and the original training and test data. This is already implemented below."
   ]
  },
  {
   "cell_type": "markdown",
   "id": "628adad4",
   "metadata": {},
   "source": [
    "<br>\n",
    "\n",
    "#### 2.3.1 Task\n",
    "\n",
    "Implement cross validation using the given parameters. Store the results in the `accuracies` variable such that index $i$ is a list with the accuracies obtained in all rounds for the 𝑖-th value of 𝑘. Use the Euclidean distance to compute the distance matrix.\n",
    "\n",
    "You can use loops to iterate over the candidate values for $k$ and the number of folds $n$. The rest of the code should not contain any loops.\n",
    "\n",
    "<br>\n",
    "\n",
    "#### 2.3.2 Solution\n",
    "\n",
    "Fill your code in the cell below."
   ]
  },
  {
   "cell_type": "code",
   "execution_count": 17,
   "id": "1adc27a2",
   "metadata": {},
   "outputs": [
    {
     "name": "stdout",
     "output_type": "stream",
     "text": [
      "Use k=1\n",
      "fold=0\n",
      "fold=1\n",
      "fold=2\n",
      "fold=3\n",
      "fold=4\n",
      "Use k=3\n",
      "fold=0\n",
      "fold=1\n",
      "fold=2\n",
      "fold=3\n",
      "fold=4\n",
      "Use k=5\n",
      "fold=0\n",
      "fold=1\n",
      "fold=2\n",
      "fold=3\n",
      "fold=4\n",
      "Use k=8\n",
      "fold=0\n",
      "fold=1\n",
      "fold=2\n",
      "fold=3\n",
      "fold=4\n",
      "Use k=10\n",
      "fold=0\n",
      "fold=1\n",
      "fold=2\n",
      "fold=3\n",
      "fold=4\n",
      "Use k=12\n",
      "fold=0\n",
      "fold=1\n",
      "fold=2\n",
      "fold=3\n",
      "fold=4\n",
      "Use k=15\n",
      "fold=0\n",
      "fold=1\n",
      "fold=2\n",
      "fold=3\n",
      "fold=4\n",
      "Use k=20\n",
      "fold=0\n",
      "fold=1\n",
      "fold=2\n",
      "fold=3\n",
      "fold=4\n",
      "Use k=50\n",
      "fold=0\n",
      "fold=1\n",
      "fold=2\n",
      "fold=3\n",
      "fold=4\n",
      "Use k=100\n",
      "fold=0\n",
      "fold=1\n",
      "fold=2\n",
      "fold=3\n",
      "fold=4\n",
      "ACCURACIES [[0.1052 0.1028 0.1056 0.1112 0.1064]\n",
      " [0.0956 0.0996 0.096  0.1064 0.1016]\n",
      " [0.0992 0.1064 0.112  0.1168 0.112 ]\n",
      " [0.1048 0.1128 0.1092 0.116  0.1092]\n",
      " [0.106  0.1184 0.1104 0.1136 0.112 ]\n",
      " [0.104  0.118  0.1116 0.1132 0.112 ]\n",
      " [0.1008 0.1156 0.1112 0.1128 0.1096]\n",
      " [0.108  0.1116 0.1116 0.1128 0.114 ]\n",
      " [0.1084 0.1152 0.1112 0.1076 0.1064]\n",
      " [0.1024 0.108  0.1052 0.1024 0.1052]]\n"
     ]
    }
   ],
   "source": [
    "# Create classifier.\n",
    "model = KNN()\n",
    "\n",
    "# Set the parameters to use.\n",
    "folds = 5\n",
    "choices = [1, 3, 5, 8, 10, 12, 15, 20, 50, 100]\n",
    "accuracies = np.zeros((len(choices), folds)).astype(float)\n",
    "\n",
    "############################################################\n",
    "###                  START OF YOUR CODE                  ###\n",
    "############################################################\n",
    "\n",
    "# Calculate the size of each fold\n",
    "fold_size = int(X_train_v.shape[0] / folds)\n",
    "\n",
    "i = 0\n",
    "choice = choices[0]\n",
    "\n",
    "for i, choice in enumerate(choices):\n",
    "    # Some logging statement\n",
    "    print(f\"Use k={choice}\")\n",
    "    \n",
    "    for fold in range(folds):\n",
    "        # Some logging statement\n",
    "        print(f\"fold={fold}\")\n",
    "        \n",
    "        # Define a mask that splits the data into train and test folds\n",
    "        mask = np.ones(X_train_v.shape[0]).astype(bool)\n",
    "        mask[fold*fold_size:(fold+1)*fold_size] = False\n",
    "\n",
    "        # Split the dataset\n",
    "        X_train_folds = X_train_v[mask]\n",
    "        X_test_fold = X_train_v[~mask]\n",
    "        y_train_folds = y_train[mask]\n",
    "        y_test_folds = y_train[~mask]\n",
    "\n",
    "        # Train the model\n",
    "        model.train(X_train_folds, y_train_folds)\n",
    "\n",
    "        # Make predictions\n",
    "        y_pred = model.predict(X_test_fold, d2, choice)\n",
    "\n",
    "        # Compute the fraction of correctly predicted examples.\n",
    "        num_correct = np.sum(y_pred == y_test_folds)\n",
    "\n",
    "        # Calculate the accuracy for the current fold\n",
    "        accuracy = num_correct / X_test_v.shape[0]\n",
    "        \n",
    "        # Update the accuracies list\n",
    "        accuracies[i][fold] += (accuracy * (1/folds))\n",
    "\n",
    "print(\"ACCURACIES\", accuracies)\n",
    "\n",
    "############################################################\n",
    "###                   END OF YOUR CODE                   ###\n",
    "############################################################"
   ]
  },
  {
   "cell_type": "markdown",
   "id": "43488897",
   "metadata": {},
   "source": [
    "<br>\n",
    "\n",
    "#### 2.3.3 Results\n",
    "\n",
    "To visualize the results, run the following code."
   ]
  },
  {
   "cell_type": "code",
   "execution_count": 18,
   "id": "b23c6727",
   "metadata": {},
   "outputs": [
    {
     "data": {
      "image/png": "[encoded data removed]",
      "text/plain": [
       "<Figure size 576x360 with 1 Axes>"
      ]
     },
     "metadata": {
      "needs_background": "light"
     },
     "output_type": "display_data"
    }
   ],
   "source": [
    "# Create figure.\n",
    "figure = plt.figure(figsize=(8, 5))\n",
    "\n",
    "# Plot the raw observations collected in the accuracies list.\n",
    "for i, k in enumerate(choices):\n",
    "    plt.scatter([k]*folds, accuracies[i])\n",
    "\n",
    "# Calculate mean and standard deviation.\n",
    "mean = np.array([np.mean(x) for x in accuracies])\n",
    "std  = np.array([np.std(x)  for x in accuracies])\n",
    "\n",
    "# Plot the trend line with error bars that correspond to the standard deviation.\n",
    "plt.errorbar(choices, mean, yerr=std)\n",
    "\n",
    "# Set title and label the axes.\n",
    "plt.title('Cross Validation on k')\n",
    "plt.xlabel('k')\n",
    "plt.ylabel('accuracy')\n",
    "\n",
    "# Display the results.\n",
    "plt.show()"
   ]
  },
  {
   "cell_type": "markdown",
   "id": "83ab48e6",
   "metadata": {},
   "source": [
    "Now, based on the results obtained during cross validation, we choose the best value for $k$, retrain the kNN classifier using all the training data, and evaluate it on the test data."
   ]
  },
  {
   "cell_type": "code",
   "execution_count": 19,
   "id": "1cbcfe0d",
   "metadata": {},
   "outputs": [
    {
     "name": "stdout",
     "output_type": "stream",
     "text": [
      "Best K 10\n"
     ]
    }
   ],
   "source": [
    "# Choose the k that worked best for our model.\n",
    "best_k = choices[np.argmax(mean)]\n",
    "\n",
    "# Show the value.\n",
    "print(\"Best K\", best_k)\n",
    "\n",
    "# Store training data.\n",
    "model.train(X_train_v, y_train)\n",
    "\n",
    "# Predict labels for test data using Euclidean distance and the chosen k.\n",
    "y_pred = model.predict(X_test_v, d2, best_k)"
   ]
  },
  {
   "cell_type": "markdown",
   "id": "c9336cb5",
   "metadata": {},
   "source": [
    "You should expect to see a slight increase in the model's accuracy."
   ]
  },
  {
   "cell_type": "code",
   "execution_count": 20,
   "id": "dec2668c",
   "metadata": {},
   "outputs": [
    {
     "name": "stdout",
     "output_type": "stream",
     "text": [
      "Accuracy: 28.20 %\n"
     ]
    }
   ],
   "source": [
    "# Compute and print the fraction of correctly predicted examples.\n",
    "num_correct = np.sum(y_pred == y_test)\n",
    "num_test, _ = X_test_v.shape\n",
    "\n",
    "print(f'Accuracy: {num_correct / num_test * 100:.2f} %')"
   ]
  },
  {
   "cell_type": "markdown",
   "id": "3aa5b456",
   "metadata": {},
   "source": [
    "<br>\n",
    "\n",
    "### 3 Preprocessing (15 Points)\n",
    "\n",
    "---\n",
    "\n",
    "In this exercise we want to see if and how the results change if we preprocess the image data before we apply the k-nearest neighbor algorithm.\n",
    "\n",
    "<br>\n",
    "\n",
    "### 3.1 Image Filtering (4 Points)\n",
    "\n",
    "---\n",
    "\n",
    "The first thing we want to do is to apply some filters on the images that were introduced in the lecture.\n",
    "\n",
    "<br>\n",
    "\n",
    "#### 3.1.1 Task (2 Points)\n",
    "\n",
    "Convert the subsampled training and test images from color to grayscale and use the [Sobel](https://docs.opencv.org/4.6.0/d4/d86/group__imgproc__filter.html#gacea54f142e81b6758cb6f375ce782c8d) method of OpenCV for bidirectional edge detection. Test different filter sizes and keep the best result. You're allowed to use a loop to apply the filter to the images.\n",
    "\n",
    "<br>\n",
    "\n",
    "#### 3.1.2 Solution\n",
    "\n",
    "Fill your code in the cell below, storing the results in the given variables."
   ]
  },
  {
   "cell_type": "code",
   "execution_count": 21,
   "id": "ce2ea862",
   "metadata": {},
   "outputs": [],
   "source": [
    "############################################################\n",
    "###                  START OF YOUR CODE                  ###\n",
    "############################################################\n",
    "\n",
    "X_train_p = []\n",
    "X_test_p  = []\n",
    "\n",
    "for i in range(X_train.shape[0]):\n",
    "    gray = cv.cvtColor(X_train[i], cv.COLOR_BGR2GRAY)\n",
    "    sobel = cv.Sobel(gray,cv.CV_8U,1,0,ksize=5)\n",
    "    X_train_p.append(sobel)\n",
    "    \n",
    "for i in range(X_test.shape[0]):\n",
    "    gray = cv.cvtColor(X_test[i], cv.COLOR_BGR2GRAY)\n",
    "    sobel = cv.Sobel(gray,cv.CV_8U,1,0,ksize=5)\n",
    "    X_test_p.append(sobel)\n",
    "\n",
    "X_train_p = np.array(X_train_p)\n",
    "X_test_p = np.array(X_test_p)\n",
    "\n",
    "############################################################\n",
    "###                   END OF YOUR CODE                   ###\n",
    "############################################################"
   ]
  },
  {
   "cell_type": "code",
   "execution_count": 22,
   "id": "d5d32477-b7a9-4b29-808f-8ef80c74028d",
   "metadata": {},
   "outputs": [
    {
     "data": {
      "text/plain": [
       "<matplotlib.image.AxesImage at 0x2381c072c10>"
      ]
     },
     "execution_count": 22,
     "metadata": {},
     "output_type": "execute_result"
    },
    {
     "data": {
      "image/png": "[encoded data removed]",
      "text/plain": [
       "<Figure size 432x288 with 2 Axes>"
      ]
     },
     "metadata": {
      "needs_background": "light"
     },
     "output_type": "display_data"
    }
   ],
   "source": [
    "# Show the effects of the transformation\n",
    "fig, ax = plt.subplots(1, 2)\n",
    "ax[0].imshow(X_train[0] / 255)\n",
    "ax[1].imshow(X_train_p[0] / 255)"
   ]
  },
  {
   "cell_type": "markdown",
   "id": "60b46689",
   "metadata": {},
   "source": [
    "<br>\n",
    "\n",
    "#### 3.1.3 Results\n",
    "\n",
    "Run the following code to evaluate the model on the preprocessed data."
   ]
  },
  {
   "cell_type": "code",
   "execution_count": 23,
   "id": "f40fe914",
   "metadata": {},
   "outputs": [],
   "source": [
    "# Convert images to vectors.\n",
    "X_train_v = to_vector(X_train_p)\n",
    "X_test_v  = to_vector(X_test_p)\n",
    "\n",
    "# Store training data.\n",
    "model.train(X_train_v, y_train)\n",
    "\n",
    "# Predict labels for test data using Euclidean distance and the chosen k.\n",
    "y_pred = model.predict(X_test_v, d2, best_k)"
   ]
  },
  {
   "cell_type": "markdown",
   "id": "681d41a2",
   "metadata": {},
   "source": [
    "You should expect to see a significantly degraded accuracy."
   ]
  },
  {
   "cell_type": "code",
   "execution_count": 24,
   "id": "b9135492",
   "metadata": {},
   "outputs": [
    {
     "name": "stdout",
     "output_type": "stream",
     "text": [
      "Accuracy: 9.20 %\n"
     ]
    }
   ],
   "source": [
    "# Compute and print the fraction of correctly predicted examples.\n",
    "num_correct = np.sum(y_pred == y_test)\n",
    "num_test, _ = X_test_v.shape\n",
    "\n",
    "print(f'Accuracy: {num_correct / num_test * 100:.2f} %')"
   ]
  },
  {
   "cell_type": "markdown",
   "id": "eb89b2f3",
   "metadata": {},
   "source": [
    "<br>\n",
    "\n",
    "#### 3.1.4 Task (2 Points)\n",
    "\n",
    "Now let's try something else. Use the `GaussianBlur` method of OpenCV on the original images for smoothing with a Gaussian filter. Try different values for kernel size and standard deviation. Can you improve the accuracy compared to the original data?\n",
    "\n",
    "<br>\n",
    "\n",
    "#### 3.1.5 Solution\n",
    "\n",
    "Fill your code in the cell below, storing the results in the given variables."
   ]
  },
  {
   "cell_type": "code",
   "execution_count": 25,
   "id": "14e25123",
   "metadata": {},
   "outputs": [],
   "source": [
    "############################################################\n",
    "###                  START OF YOUR CODE                  ###\n",
    "############################################################\n",
    "\n",
    "X_train_p = []\n",
    "X_test_p  = []\n",
    "\n",
    "for i in range(X_train.shape[0]):\n",
    "    blur = cv.GaussianBlur(X_train[i],(5,5),0)\n",
    "    X_train_p.append(blur)\n",
    "    \n",
    "for i in range(X_test.shape[0]):\n",
    "    blur = cv.GaussianBlur(X_test[i],(5,5),0)\n",
    "    X_test_p.append(blur)\n",
    "\n",
    "X_train_p = np.array(X_train_p)\n",
    "X_test_p = np.array(X_test_p)\n",
    "\n",
    "############################################################\n",
    "###                   END OF YOUR CODE                   ###\n",
    "############################################################"
   ]
  },
  {
   "cell_type": "code",
   "execution_count": 26,
   "id": "adfe19f9-cd09-4bc2-a3b2-081caa8dd22e",
   "metadata": {},
   "outputs": [
    {
     "data": {
      "text/plain": [
       "<matplotlib.image.AxesImage at 0x2381b2d5af0>"
      ]
     },
     "execution_count": 26,
     "metadata": {},
     "output_type": "execute_result"
    },
    {
     "data": {
      "image/png": "[encoded data removed]",
      "text/plain": [
       "<Figure size 432x288 with 2 Axes>"
      ]
     },
     "metadata": {
      "needs_background": "light"
     },
     "output_type": "display_data"
    }
   ],
   "source": [
    "# Show the effects of the transformation\n",
    "fig, ax = plt.subplots(1, 2)\n",
    "ax[0].imshow(X_train[0] / 255)\n",
    "ax[1].imshow(X_train_p[0] / 255)"
   ]
  },
  {
   "cell_type": "markdown",
   "id": "954cb7a7",
   "metadata": {},
   "source": [
    "<br>\n",
    "\n",
    "#### 3.1.6 Results\n",
    "\n",
    "Run the following code to evaluate the model on the preprocessed data."
   ]
  },
  {
   "cell_type": "code",
   "execution_count": 27,
   "id": "af9c0bcf",
   "metadata": {},
   "outputs": [],
   "source": [
    "# Convert images to vectors.\n",
    "X_train_v = to_vector(X_train_p)\n",
    "X_test_v  = to_vector(X_test_p)\n",
    "\n",
    "# Store training data.\n",
    "model.train(X_train_v, y_train)\n",
    "\n",
    "# Predict labels for test data using Euclidean distance and the chosen k.\n",
    "y_pred = model.predict(X_test_v, d2, best_k)"
   ]
  },
  {
   "cell_type": "markdown",
   "id": "020d29b4",
   "metadata": {},
   "source": [
    "You should be able to get a slightly better result than using the original data."
   ]
  },
  {
   "cell_type": "code",
   "execution_count": 28,
   "id": "2c8bf3ea",
   "metadata": {},
   "outputs": [
    {
     "name": "stdout",
     "output_type": "stream",
     "text": [
      "Accuracy: 27.40 %\n"
     ]
    }
   ],
   "source": [
    "# Compute and print the fraction of correctly predicted examples.\n",
    "num_correct = np.sum(y_pred == y_test)\n",
    "num_test, _ = X_test_v.shape\n",
    "\n",
    "print(f'Accuracy: {num_correct / num_test * 100:.2f} %')"
   ]
  },
  {
   "cell_type": "markdown",
   "id": "27b8fe2d",
   "metadata": {},
   "source": [
    "<br>\n",
    "\n",
    "### 3.2 Principal Component Analysis (11 Points)\n",
    "\n",
    "---\n",
    "\n",
    "When dealing with high dimensional data like images, we often find that not all dimensions are equally important to solve the task at hand. Moreover, due to the *curse of dimensionality*, samples become increasingly equidistant in high dimensional spaces, which degrades the performance of distance based algorithms like the k-nearest neighbor classifier.\n",
    "\n",
    "In the introductory machine learning courses, **principal component analysis** (PCA) was introduced as a method to reduce the dimensionality of the data. The algorithm describes an orthogonal projection of the data onto a lower dimensional subspace, such that the variance of the projected data is maximized. In other words, PCA reduces the dimensionality of the data while retaining as much information as possible.\n",
    "\n",
    "The orthogonal directions that convey the most information are given by the eigenvectors of the data covariance matrix, which are called principal components. We project the centered data with dimensionality $D$ onto the span of the $K < D$ eigenvectors corresponding to the $K$ largest eigenvalues of the data covariance matrix, because the eigenvalues encode the variance of the projected data.\n",
    "\n",
    "Now, before we preprocess the dataset using PCA, we want to convince ourselves that the properties stated above are true."
   ]
  },
  {
   "cell_type": "markdown",
   "id": "a8b8a448",
   "metadata": {},
   "source": [
    "<br>\n",
    "\n",
    "#### 3.2.1 Variance Formulation (2 Points)\n",
    "\n",
    "Consider a dataset of $N$ observations $\\{\\mathbf{x}_n\\}_{n=1}^N$ with $\\mathbf{x}_n \\in \\mathbb{R}^D$ and $D > 1$. The data covariance matrix is defined as\n",
    "\n",
    "<br>\n",
    "\n",
    "$$\n",
    "    \\mathbf{S}\n",
    "    =\n",
    "    \\frac{1}{N-1} \\sum_{n=1}^N (\\mathbf{x}_n - \\bar{\\mathbf{x}})(\\mathbf{x}_n - \\bar{\\mathbf{x}})^\\top\n",
    "$$\n",
    "\n",
    "where $\\bar{\\mathbf{x}}$ denotes the sample mean.\n",
    "\n",
    "Show that the expression $\\mathbf{v}^\\top\\mathbf{S}\\mathbf{v}$ with $\\mathbf{v} \\in \\mathbb{R}^D$ and $\\lVert\\mathbf{v}\\rVert = 1$ is equal to the variance of the linear projections $\\mathbf{v}^\\top\\mathbf{x}_n$."
   ]
  },
  {
   "cell_type": "markdown",
   "id": "da8f7e1d",
   "metadata": {},
   "source": [
    "##### Proof\n",
    "\n",
    "*Write your proof here.*\n",
    "\n",
    "<div style=\"text-align:right\">$\\square$</div>"
   ]
  },
  {
   "cell_type": "markdown",
   "id": "ed345772",
   "metadata": {},
   "source": [
    "<br>\n",
    "\n",
    "#### 3.2.2 Principal Components (4 Points)\n",
    "\n",
    "Show that the variance $\\mathbf{v}^\\top\\mathbf{S}\\mathbf{v}$ of the projected data is maximized if the vector $\\mathbf{v}$ is the eigenvector corresponding to the largest eigenvalue of the covariance matrix $\\mathbf{S}$, i.e. the first principal component.\n",
    "\n",
    "You could do this by computing the partial derivative of $\\mathbf{v}^\\top\\mathbf{S}\\mathbf{v}$ with respect to $\\mathbf{v}$ and setting the result to zero, but you have to take into account the equality constraint $\\lVert\\mathbf{v}\\rVert = 1$. So instead of maximizing the variance directly, you can perform these steps for a [Lagrange function](https://en.wikipedia.org/wiki/Lagrange_multiplier), which we define as\n",
    "\n",
    "$$\n",
    "    \\mathcal{L}(\\mathbf{v}, \\mathbf{S}, \\lambda)\n",
    "    =\n",
    "    \\mathbf{v}^\\top\\mathbf{S}\\mathbf{v}\n",
    "    -\n",
    "    \\lambda(\\mathbf{v}^\\top\\mathbf{v} - 1).\n",
    "$$\n",
    "\n",
    "<br>"
   ]
  },
  {
   "cell_type": "markdown",
   "id": "9e60864e",
   "metadata": {},
   "source": [
    "##### Proof\n",
    "\n",
    "*Write your proof here.*\n",
    "\n",
    "<div style=\"text-align:right\">$\\square$</div>"
   ]
  },
  {
   "cell_type": "markdown",
   "id": "e059ffd0",
   "metadata": {},
   "source": [
    "<br>\n",
    "\n",
    "#### 3.2.3 Implementation (5 Points)\n",
    "\n",
    "Now we want to apply PCA to the subsampled data of the CIFAR-10 data set and evaluate the kNN model with the transformed data. In order to do this, implement the following steps:\n",
    "\n",
    "- Convert the training and test images to vectors.\n",
    "- Compute the mean $\\mu$ and standard deviation $\\sigma$ per feature for both data sets.\n",
    "- Normalize the data by subtracting the mean and dividing by the standard deviation.\n",
    "- Compute the data covariance matrix $\\mathbf{S}$ for the *training* set.\n",
    "- Compute the eigenvalues $\\lambda_i$ and eigenvectors $\\mathbf{v}_i$ for the covariance matrix $\\mathbf{S}$.\n",
    "- Sort the eigenvalues in decreasing order and then sort the eigenvectors accordingly.\n",
    "- Let $\\mathbf{V}$ be the matrix having the $K$ eigenvectors corresponding to the $K$ largest eigenvalues as columns.\n",
    "- Project both the training and test images onto the principal subspace by computing\n",
    "  \n",
    "  $$\n",
    "      \\tilde{\\mathbf{X}} = \\mathbf{X}\\mathbf{V}.\n",
    "  $$\n",
    "\n",
    "<br>\n",
    "\n",
    "We want to choose the number of principal components $K$ such that $95\\%$ of the variance is preserved.\n",
    "\n",
    "As we have seen above, the variance of the projected data, also called the explained variance, is given by the eigenvalues $\\lambda_i$ of $\\mathbf{S}$. So, in order to find a threshold for the number of components $K$, compute the percentage of variance explained by each component as\n",
    "\n",
    "$$\n",
    "    r_i = \\frac{\\lambda_i}{\\sum_{j=1}^D \\lambda_j}\n",
    "$$\n",
    "\n",
    "for $i = 1, \\ldots, D$.\n",
    "\n",
    "Accumulate the sorted and normalized eigenvalues $r_i$ until the explained variance ratio is equal to or larger than $0.95$ and use the corresponding number of components $K$ for the projection.\n",
    "\n",
    "Implement the algorithm without loops. You can use the [cov](https://numpy.org/doc/stable/reference/generated/numpy.cov.html) function from NumPy to compute tha data covariance matrix and the [eigh](https://numpy.org/doc/stable/reference/generated/numpy.linalg.eigh.html) function for computing its eigenvalues and eigenvectors.\n",
    "\n",
    "<br>\n",
    "\n",
    "#### 3.2.4 Solution\n",
    "\n",
    "Fill your solution in the code cell below, storing the results in the given variables."
   ]
  },
  {
   "cell_type": "code",
   "execution_count": 29,
   "id": "46165402",
   "metadata": {},
   "outputs": [],
   "source": [
    "############################################################\n",
    "###                  START OF YOUR CODE                  ###\n",
    "############################################################\n",
    "\n",
    "def normalize_vector(X):\n",
    "    m = np.mean(X, axis=0)\n",
    "    s = np.std(X, axis=0)\n",
    "    Xn = (X - m) / s\n",
    "    return Xn\n",
    "\n",
    "X_train_p = normalize_vector(to_vector(X_train))\n",
    "X_test_p  = normalize_vector(to_vector(X_test))\n",
    "\n",
    "# Calculate covariance matrix\n",
    "S = (X_train_p.T @ X_train_p) / (X_train_p.shape[0] - 1)\n",
    "\n",
    "# Calculate Eigenvalues (w) and Eigenvectors (v)\n",
    "w, v = np.linalg.eig(np.cov(S))\n",
    "\n",
    "# Get indices of eigenvalues ordered descending\n",
    "order_desc = np.flip(np.argsort(w))\n",
    "\n",
    "# Get eigenvalues sorted ascending\n",
    "eigenvalues_desc = w[order_desc]\n",
    "\n",
    "# Get eigenvectors ordered by descending eigenvalues\n",
    "eigenvectors_desc = v[order_desc]\n",
    "\n",
    "# Calculate percentage of variance that is explained by the first k PCs\n",
    "r = eigenvalues_desc.cumsum() / eigenvalues_desc.sum()\n",
    "\n",
    "# Determine the number of PCs that explain at least 95% of the variance\n",
    "k = np.argwhere(r >= 0.95).min()\n",
    "\n",
    "X_train_p = (X_train_p @ eigenvectors_desc[0:8].T)\n",
    "X_test_p = (X_test_p @ eigenvectors_desc[0:8].T)\n",
    "\n",
    "############################################################\n",
    "###                   END OF YOUR CODE                   ###\n",
    "############################################################"
   ]
  },
  {
   "cell_type": "markdown",
   "id": "636f20ac",
   "metadata": {},
   "source": [
    "<br>\n",
    "\n",
    "#### 3.2.5 Result\n",
    "\n",
    "Let's see how much we reduced the dimensionality of the data.  Then we'll evaluate our kNN model."
   ]
  },
  {
   "cell_type": "code",
   "execution_count": 30,
   "id": "6ec2fdda",
   "metadata": {},
   "outputs": [
    {
     "name": "stdout",
     "output_type": "stream",
     "text": [
      "(5000, 8)\n"
     ]
    }
   ],
   "source": [
    "# Check the shape of the projected data.\n",
    "print(X_train_p.shape)"
   ]
  },
  {
   "cell_type": "code",
   "execution_count": 31,
   "id": "5572989e",
   "metadata": {},
   "outputs": [],
   "source": [
    "# Store training data.\n",
    "model.train(X_train_p, y_train)\n",
    "\n",
    "# Predict labels for test data using Euclidean distance and the chosen k.\n",
    "y_pred = model.predict(X_test_p, d2, best_k)"
   ]
  },
  {
   "cell_type": "markdown",
   "id": "5160ebb8",
   "metadata": {},
   "source": [
    "You should expect to see the same or even a slightly increased accuracy, though we have massively reduced the number of dimensions."
   ]
  },
  {
   "cell_type": "code",
   "execution_count": 32,
   "id": "2486fb82",
   "metadata": {},
   "outputs": [
    {
     "name": "stdout",
     "output_type": "stream",
     "text": [
      "Accuracy: 15.80 %\n"
     ]
    }
   ],
   "source": [
    "# Compute and print the fraction of correctly predicted examples.\n",
    "num_correct = np.sum(y_pred == y_test)\n",
    "num_test, _ = X_test_v.shape\n",
    "\n",
    "print(f'Accuracy: {num_correct / num_test * 100:.2f} %')"
   ]
  },
  {
   "cell_type": "markdown",
   "id": "1b87846b",
   "metadata": {},
   "source": [
    "<br>\n",
    "\n",
    "### Acknowledgement\n",
    "\n",
    "Parts of this exercise are adapted from the Stanford CS231n course."
   ]
  },
  {
   "cell_type": "code",
   "execution_count": null,
   "id": "a9bd54b4",
   "metadata": {},
   "outputs": [],
   "source": []
  }
 ],
 "metadata": {
  "kernelspec": {
   "display_name": "Python 3 (ipykernel)",
   "language": "python",
   "name": "python3"
  },
  "language_info": {
   "codemirror_mode": {
    "name": "ipython",
    "version": 3
   },
   "file_extension": ".py",
   "mimetype": "text/x-python",
   "name": "python",
   "nbconvert_exporter": "python",
   "pygments_lexer": "ipython3",
   "version": "3.10.6"
  }
 },
 "nbformat": 4,
 "nbformat_minor": 5
}
