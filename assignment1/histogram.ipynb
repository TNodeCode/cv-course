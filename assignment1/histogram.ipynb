{
 "cells": [
  {
   "cell_type": "markdown",
   "id": "bcfb5226",
   "metadata": {},
   "source": [
    "# Deep Learning for Computer Vision\n",
    "\n",
    "---\n",
    "\n",
    "**Goethe University Frankfurt am Main**\n",
    "\n",
    "Winter Semester 2022/23\n",
    "\n",
    "<br>\n",
    "\n",
    "## *Assignment 1 (Histogram)*\n",
    "\n",
    "---\n",
    "\n",
    "**Points:** 10<br>\n",
    "**Due:** 2.11.2022, 10 am<br>\n",
    "**Contact:** Matthias Fulde ([fulde@cs.uni-frankfurt.de](mailto:fulde@cs.uni-frankfurt.de))<br>\n",
    "\n",
    "---\n",
    "\n",
    "**Your Name:** Tilo-Lars Flasche\n",
    "\n",
    "<br>"
   ]
  },
  {
   "cell_type": "markdown",
   "id": "f64171c5",
   "metadata": {},
   "source": [
    "<br>\n",
    "\n",
    "## Table of Contents\n",
    "\n",
    "---\n",
    "\n",
    "- [1 Histogram Equalization](#1-Histogram-Equalization-(10-Points))\n",
    "  - [1.1 Derivation](#1.1-Derivation-(5-Points))\n",
    "  - [1.2 Implementation](#1.2-Implementation-(5-Points))\n"
   ]
  },
  {
   "cell_type": "markdown",
   "id": "31afd2c5",
   "metadata": {},
   "source": [
    "<br>\n",
    "\n",
    "## Setup\n",
    "\n",
    "---\n",
    "\n",
    "In this notebook we use the libraries **Matplotlib**, **NumPy** and **OpenCV**. We recommend to use at least the 3.x versions of OpenCV. You can check your version with the statements below."
   ]
  },
  {
   "cell_type": "code",
   "execution_count": 1,
   "id": "8b879423",
   "metadata": {},
   "outputs": [
    {
     "data": {
      "text/plain": [
       "'4.6.0'"
      ]
     },
     "execution_count": 1,
     "metadata": {},
     "output_type": "execute_result"
    }
   ],
   "source": [
    "import numpy as np\n",
    "import cv2 as cv\n",
    "\n",
    "# Check installed OpenCV version.\n",
    "cv.__version__"
   ]
  },
  {
   "cell_type": "markdown",
   "id": "a752faf1",
   "metadata": {},
   "source": [
    "We want Matplotlib figures to appear within the notebook rather than inside a separate window, which is default in some environments, therefore we make use of the `%matplotlib` magic function to set the Matplotlib backend to inline."
   ]
  },
  {
   "cell_type": "code",
   "execution_count": 2,
   "id": "1d83e934",
   "metadata": {},
   "outputs": [],
   "source": [
    "import matplotlib.pyplot as plt\n",
    "\n",
    "# Set default color map and interpolation method for images.\n",
    "plt.rcParams['image.cmap'] = 'gray'\n",
    "plt.rcParams['image.interpolation'] = 'nearest'\n",
    "\n",
    "%matplotlib inline"
   ]
  },
  {
   "cell_type": "markdown",
   "id": "26bae06b",
   "metadata": {},
   "source": [
    "We import some utility functions to show images and to plot histograms. See `utils.py` for documentation."
   ]
  },
  {
   "cell_type": "code",
   "execution_count": 3,
   "id": "8ad532cb",
   "metadata": {},
   "outputs": [],
   "source": [
    "from utils import display, show_plot, show_histogram"
   ]
  },
  {
   "cell_type": "markdown",
   "id": "244d6351",
   "metadata": {},
   "source": [
    "<br>\n",
    "\n",
    "### Exercises\n",
    "\n",
    "---\n",
    "\n",
    "### 1 Histogram Equalization (10 Points)\n",
    "\n",
    "---\n",
    "\n",
    "In the lecture, *image histograms* have been introduced as a tool to visualize the intensity distribution of an image, allowing both for the analysis and manipulation of digital images. In particular, it has been shown how the **Histogram Equalization** algorithm can be used to increase the global contrast of an image by mapping intensities to a more uniform distribution.\n",
    "\n",
    "<br>\n",
    "\n",
    "![histograms](images/histograms.png)\n",
    "\n",
    "<br>\n",
    "\n",
    "The above figure provides examples for histograms of dark and light, as well as low and high contrast images. ([Gonzalez and Woods](#ref-1))\n",
    "\n",
    "The horizontal axis of the histograms represents the intensity levels, ranging from dark to light. The vertical axis represents the number of pixels in the grayscale image with a particular intensity level. Given this ordering, it's not surprising that for the dark and light images, the distribution is concentrated on the left and right hand side of the range, respectively. However, it's an important observation, that low contrast of an image corresponds to a narrow distribution, while in a high contrast image, the distribution is almost uniform.\n",
    "\n",
    "This gives a visual justification of why the histogram equalization algorithm is working."
   ]
  },
  {
   "cell_type": "markdown",
   "id": "79523efb",
   "metadata": {},
   "source": [
    "<br>\n",
    "\n",
    "### 1.1 Derivation (5 Points)\n",
    "\n",
    "---\n",
    "\n",
    "In this exercise we want to build some intuition for the mathematical foundation of the histogram equalization algorithm.\n",
    "\n",
    "For this purpose we consider the intensities of the pixels in the image before and after equalization no longer as discrete values, but as continuous random variables $X$ and $Y$, defined over the range $[0, L-1]$ with $L \\in \\mathbb{N}$ and $L > 1$.\n",
    "\n",
    "We define $Y$ as the result of a transformation $T$, which we assume to be differentiable and invertible, and that is given by\n",
    "\n",
    "$$\n",
    "    Y = T(X) = (L-1) \\int_0^X f_X(t) \\,\\text{d}t\n",
    "$$\n",
    "\n",
    "where $f_X$ is the probability density function of $X$.\n",
    "\n",
    "Show that if the random variable $Y$ is defined this way, it is uniformly distributed over the range $[0, L-1]$, which means the probability density function of $Y$ is given by\n",
    "\n",
    "$$\n",
    "    f_Y(y) = \\frac{1}{L-1}\\,.\n",
    "$$"
   ]
  },
  {
   "cell_type": "markdown",
   "id": "9b17c8e0",
   "metadata": {},
   "source": [
    "##### Proof\n",
    "\n",
    "*Write your proof here.*\n",
    "\n",
    "<div style=\"text-align:right\">$\\square$</div>"
   ]
  },
  {
   "cell_type": "markdown",
   "id": "558eb9e2",
   "metadata": {},
   "source": [
    "<br>\n",
    "\n",
    "### 1.2 Implementation (5 Points)\n",
    "\n",
    "---\n",
    "\n",
    "We have seen in the previous exercise that in the continuous case, using the cumulative distribution function of the input intensities for the transformation will produce a uniform distribution of the output intensities. However, in practice we have to deal with discrete values, which means we can only approximate a uniform distribution.\n",
    "\n",
    "Moreover, we want the resulting intensities to be spread across the whole range $[0, L-1]$, with $L$ being the number of intensity levels. There are different ways to achieve this goal, producing similar results. Using the algorithm introduced in the lecture, we apply min-max scaling to the unnormalized cumulative histogram of the input image, multiply with $(L-1)$, and floor the result.\n",
    "\n",
    "So, the formula we want to use is\n",
    "\n",
    "$$\n",
    "    T(x) = \\left\\lfloor (L-1) \\frac{h_x - h_\\text{min}}{h_\\text{max} - h_\\text{min}} \\right\\rfloor,\n",
    "$$\n",
    "\n",
    "<br>\n",
    "\n",
    "where $h_x$ is the value for intensity $x$ in the unnormalized cumulative histogram $h$. The variable $h_\\text{min}$ denotes the minimum non-zero value in $h$ and $h_\\text{max}$ is the total number of pixels in the image.\n",
    "\n",
    "<br>\n",
    "\n",
    "#### 1.2.1 Task\n",
    "\n",
    "Complete the definition of the `cumHist` and `equalizeHist` functions below.\n",
    "\n",
    "Both functions should take a grayscale image as input. The `cumHist` function computes the cumulative histogram of the input image, *optionally* normalized by dividing each value by the number of pixels in the input image. The `equalizeHist` function applies histogram equalization to the input image in order to enhance its contrast, implementing the transformation defined above.\n",
    "\n",
    "The input type should be `uint8` for both functions. For the `equalizeHist` function, this should also be the output type.\n",
    "\n",
    "Use only vectorized NumPy operations to implement the algorithms.\n",
    "\n",
    "<br>\n",
    "\n",
    "#### 1.2.2 Solution\n",
    "\n",
    "Fill your code in the cells below."
   ]
  },
  {
   "cell_type": "code",
   "execution_count": null,
   "id": "cd998615",
   "metadata": {},
   "outputs": [],
   "source": [
    "def cumHist(image, norm=False):\n",
    "    \"\"\"\n",
    "    Compute the cumulative histogram of the grayscale input image.\n",
    "\n",
    "    Parameters:\n",
    "        - image: Grayscale input image.\n",
    "        - norm: Normalize the cumulative histogram.\n",
    "\n",
    "    Returns:\n",
    "        - out: Cumulative histogram.\n",
    "\n",
    "    \"\"\"\n",
    "    ############################################################\n",
    "    #                    START OF YOUR CODE                    #\n",
    "    ############################################################\n",
    "\n",
    "    out = None\n",
    "\n",
    "    if norm:\n",
    "        out = None\n",
    "\n",
    "    ############################################################\n",
    "    #                     END OF YOUR CODE                     #\n",
    "    ############################################################\n",
    "    return out"
   ]
  },
  {
   "cell_type": "code",
   "execution_count": null,
   "id": "bcc8d817",
   "metadata": {},
   "outputs": [],
   "source": [
    "def equalizeHist(image):\n",
    "    \"\"\"\n",
    "    Apply histogram equalization to a grayscale input image.\n",
    "\n",
    "    Parameters:\n",
    "        - image: Grayscale input image.\n",
    "\n",
    "    Returns:\n",
    "        - out: Equalized image.\n",
    "\n",
    "    \"\"\"\n",
    "    ############################################################\n",
    "    #                    START OF YOUR CODE                    #\n",
    "    ############################################################\n",
    "\n",
    "    out = None\n",
    "\n",
    "    ############################################################\n",
    "    #                     END OF YOUR CODE                     #\n",
    "    ############################################################\n",
    "    return out"
   ]
  },
  {
   "cell_type": "markdown",
   "id": "217f9598",
   "metadata": {},
   "source": [
    "<br>\n",
    "\n",
    "#### 1.2.3 Result\n",
    "\n",
    "Let's test the function with a low contrast radio image showing lung metastases. If you implemented the algorithms correctly, the cumulative histogram of the equalized image should be close to linear."
   ]
  },
  {
   "cell_type": "code",
   "execution_count": null,
   "id": "09b03ec5",
   "metadata": {},
   "outputs": [],
   "source": [
    "# Load grayscale image.\n",
    "img = cv.imread('images/lung.jpg', cv.IMREAD_GRAYSCALE)\n",
    "\n",
    "# Apply histogram equalization to the image.\n",
    "res = equalizeHist(img)\n",
    "\n",
    "# Calculate normalized cumulative histograms.\n",
    "img_h, res_h = [cumHist(x, norm=True) for x in [img, res]]\n",
    "\n",
    "# Show images and histograms.\n",
    "display((16, 8), [\n",
    "    (img,   'Original',  231),\n",
    "    (res,   'Equalized', 234),\n",
    "    (img,   'Histogram (Original)',  232, True, show_histogram),\n",
    "    (res,   'Histogram (Equalized)', 235, True, show_histogram),\n",
    "    (img_h, 'Cumulative Histogram (Original)',  233, True, show_plot),\n",
    "    (res_h, 'Cumulative Histogram (Equalized)', 236, True, show_plot)\n",
    "])"
   ]
  },
  {
   "cell_type": "markdown",
   "id": "87d010f2",
   "metadata": {},
   "source": [
    "<br>\n",
    "\n",
    "### References\n",
    "\n",
    "1. <span id=\"ref-1\">Rafael C. Gonzalez and Richard E. Woods, \"Digital image processing\", 4th Edition, 2018.</span>\n",
    "\n",
    "<br>"
   ]
  },
  {
   "cell_type": "code",
   "execution_count": null,
   "id": "21b8e674",
   "metadata": {},
   "outputs": [],
   "source": []
  }
 ],
 "metadata": {
  "kernelspec": {
   "display_name": "Python 3 (ipykernel)",
   "language": "python",
   "name": "python3"
  },
  "language_info": {
   "codemirror_mode": {
    "name": "ipython",
    "version": 3
   },
   "file_extension": ".py",
   "mimetype": "text/x-python",
   "name": "python",
   "nbconvert_exporter": "python",
   "pygments_lexer": "ipython3",
   "version": "3.10.6"
  }
 },
 "nbformat": 4,
 "nbformat_minor": 5
}
